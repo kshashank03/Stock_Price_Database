{
 "metadata": {
  "language_info": {
   "codemirror_mode": {
    "name": "ipython",
    "version": 3
   },
   "file_extension": ".py",
   "mimetype": "text/x-python",
   "name": "python",
   "nbconvert_exporter": "python",
   "pygments_lexer": "ipython3",
   "version": "3.7.9-final"
  },
  "orig_nbformat": 2,
  "kernelspec": {
   "name": "python3",
   "display_name": "Python 3",
   "language": "python"
  }
 },
 "nbformat": 4,
 "nbformat_minor": 2,
 "cells": [
  {
   "cell_type": "code",
   "execution_count": 104,
   "metadata": {},
   "outputs": [],
   "source": [
    "import pandas as pd\n",
    "import os\n",
    "from tqdm import tqdm_notebook\n",
    "import requests"
   ]
  },
  {
   "cell_type": "code",
   "execution_count": 3,
   "metadata": {},
   "outputs": [],
   "source": [
    "pwd = os.getcwd()"
   ]
  },
  {
   "cell_type": "code",
   "execution_count": 102,
   "metadata": {},
   "outputs": [],
   "source": [
    "ALPACA_API_KEY = 'AKBUXI6D3LXKNW1FICFH'\n",
    "#URL FOR TICKER Info\n",
    "POLYGON_TICKER_INFO_URL = \"https://api.polygon.io/v1/meta/symbols/{}/company?apiKey={}\""
   ]
  },
  {
   "cell_type": "code",
   "execution_count": 9,
   "metadata": {},
   "outputs": [
    {
     "output_type": "execute_result",
     "data": {
      "text/plain": [
       "['c:\\\\Users\\\\shash\\\\OneDrive\\\\Documents\\\\Data Science-Shashank-PC\\\\trading_data\\\\data\\\\bars_adj\\\\A.csv',\n",
       " 'c:\\\\Users\\\\shash\\\\OneDrive\\\\Documents\\\\Data Science-Shashank-PC\\\\trading_data\\\\data\\\\bars_adj\\\\AAL.csv',\n",
       " 'c:\\\\Users\\\\shash\\\\OneDrive\\\\Documents\\\\Data Science-Shashank-PC\\\\trading_data\\\\data\\\\bars_adj\\\\AAP.csv']"
      ]
     },
     "metadata": {},
     "execution_count": 9
    }
   ],
   "source": [
    "files = [pwd + f\"\\\\data\\\\bars_adj\\\\{i}\" for i in os.listdir(pwd + \"\\\\data\\\\bars_adj\")]\n",
    "files[:3]"
   ]
  },
  {
   "cell_type": "code",
   "execution_count": 33,
   "metadata": {},
   "outputs": [
    {
     "output_type": "display_data",
     "data": {
      "text/plain": "HBox(children=(HTML(value=''), FloatProgress(value=0.0, max=505.0), HTML(value='')))",
      "application/vnd.jupyter.widget-view+json": {
       "version_major": 2,
       "version_minor": 0,
       "model_id": "4e0c2f423af341ad9b717e935cb4e47d"
      }
     },
     "metadata": {}
    },
    {
     "output_type": "stream",
     "name": "stdout",
     "text": [
      "\n"
     ]
    },
    {
     "output_type": "execute_result",
     "data": {
      "text/plain": [
       "           date symbol divPaymentDate divRecordDate  dividend divDeclaredDate  \\\n",
       "0    2005-01-03      A            NaN           NaN       NaN             NaN   \n",
       "1    2005-01-04      A            NaN           NaN       NaN             NaN   \n",
       "2    2005-01-05      A            NaN           NaN       NaN             NaN   \n",
       "3    2005-01-06      A            NaN           NaN       NaN             NaN   \n",
       "4    2005-01-07      A            NaN           NaN       NaN             NaN   \n",
       "...         ...    ...            ...           ...       ...             ...   \n",
       "1989 2020-12-24    ZTS            NaN           NaN       NaN             NaN   \n",
       "1990 2020-12-28    ZTS            NaN           NaN       NaN             NaN   \n",
       "1991 2020-12-29    ZTS            NaN           NaN       NaN             NaN   \n",
       "1992 2020-12-30    ZTS            NaN           NaN       NaN             NaN   \n",
       "1993 2020-12-31    ZTS            NaN           NaN       NaN             NaN   \n",
       "\n",
       "      ratio_adj  split_factor  volume_adj  open_adj  close_adj  high_adj  \\\n",
       "0           1.0           1.0   2417000.0     24.10      23.88   24.1800   \n",
       "1           1.0           1.0   2680200.0     23.78      23.25   23.9900   \n",
       "2           1.0           1.0   2789100.0     23.17      23.24   23.6500   \n",
       "3           1.0           1.0   2209000.0     23.40      22.73   23.4400   \n",
       "4           1.0           1.0   1877200.0     22.68      22.71   22.9500   \n",
       "...         ...           ...         ...       ...        ...       ...   \n",
       "1989        1.0           1.0    434699.0    159.92     160.72  161.8699   \n",
       "1990        1.0           1.0   1541080.0    161.44     162.39  162.8300   \n",
       "1991        1.0           1.0   1202670.0    163.21     163.12  165.1000   \n",
       "1992        1.0           1.0   1023092.0    163.51     164.27  164.8000   \n",
       "1993        1.0           1.0   1302237.0    164.50     165.50  165.6750   \n",
       "\n",
       "      low_adj  dollar_volume splitDeclaredDate  tofactor  forfactor  \n",
       "0       23.50   5.771796e+07               NaN       NaN        NaN  \n",
       "1       23.05   6.231465e+07               NaN       NaN        NaN  \n",
       "2       23.12   6.481868e+07               NaN       NaN        NaN  \n",
       "3       22.69   5.021057e+07               NaN       NaN        NaN  \n",
       "4       22.63   4.263121e+07               NaN       NaN        NaN  \n",
       "...       ...            ...               ...       ...        ...  \n",
       "1989   159.85   6.986482e+07               NaN       NaN        NaN  \n",
       "1990   160.31   2.502560e+08               NaN       NaN        NaN  \n",
       "1991   162.40   1.961795e+08               NaN       NaN        NaN  \n",
       "1992   163.16   1.680633e+08               NaN       NaN        NaN  \n",
       "1993   163.23   2.155202e+08               NaN       NaN        NaN  \n",
       "\n",
       "[1818940 rows x 17 columns]"
      ],
      "text/html": "<div>\n<style scoped>\n    .dataframe tbody tr th:only-of-type {\n        vertical-align: middle;\n    }\n\n    .dataframe tbody tr th {\n        vertical-align: top;\n    }\n\n    .dataframe thead th {\n        text-align: right;\n    }\n</style>\n<table border=\"1\" class=\"dataframe\">\n  <thead>\n    <tr style=\"text-align: right;\">\n      <th></th>\n      <th>date</th>\n      <th>symbol</th>\n      <th>divPaymentDate</th>\n      <th>divRecordDate</th>\n      <th>dividend</th>\n      <th>divDeclaredDate</th>\n      <th>ratio_adj</th>\n      <th>split_factor</th>\n      <th>volume_adj</th>\n      <th>open_adj</th>\n      <th>close_adj</th>\n      <th>high_adj</th>\n      <th>low_adj</th>\n      <th>dollar_volume</th>\n      <th>splitDeclaredDate</th>\n      <th>tofactor</th>\n      <th>forfactor</th>\n    </tr>\n  </thead>\n  <tbody>\n    <tr>\n      <th>0</th>\n      <td>2005-01-03</td>\n      <td>A</td>\n      <td>NaN</td>\n      <td>NaN</td>\n      <td>NaN</td>\n      <td>NaN</td>\n      <td>1.0</td>\n      <td>1.0</td>\n      <td>2417000.0</td>\n      <td>24.10</td>\n      <td>23.88</td>\n      <td>24.1800</td>\n      <td>23.50</td>\n      <td>5.771796e+07</td>\n      <td>NaN</td>\n      <td>NaN</td>\n      <td>NaN</td>\n    </tr>\n    <tr>\n      <th>1</th>\n      <td>2005-01-04</td>\n      <td>A</td>\n      <td>NaN</td>\n      <td>NaN</td>\n      <td>NaN</td>\n      <td>NaN</td>\n      <td>1.0</td>\n      <td>1.0</td>\n      <td>2680200.0</td>\n      <td>23.78</td>\n      <td>23.25</td>\n      <td>23.9900</td>\n      <td>23.05</td>\n      <td>6.231465e+07</td>\n      <td>NaN</td>\n      <td>NaN</td>\n      <td>NaN</td>\n    </tr>\n    <tr>\n      <th>2</th>\n      <td>2005-01-05</td>\n      <td>A</td>\n      <td>NaN</td>\n      <td>NaN</td>\n      <td>NaN</td>\n      <td>NaN</td>\n      <td>1.0</td>\n      <td>1.0</td>\n      <td>2789100.0</td>\n      <td>23.17</td>\n      <td>23.24</td>\n      <td>23.6500</td>\n      <td>23.12</td>\n      <td>6.481868e+07</td>\n      <td>NaN</td>\n      <td>NaN</td>\n      <td>NaN</td>\n    </tr>\n    <tr>\n      <th>3</th>\n      <td>2005-01-06</td>\n      <td>A</td>\n      <td>NaN</td>\n      <td>NaN</td>\n      <td>NaN</td>\n      <td>NaN</td>\n      <td>1.0</td>\n      <td>1.0</td>\n      <td>2209000.0</td>\n      <td>23.40</td>\n      <td>22.73</td>\n      <td>23.4400</td>\n      <td>22.69</td>\n      <td>5.021057e+07</td>\n      <td>NaN</td>\n      <td>NaN</td>\n      <td>NaN</td>\n    </tr>\n    <tr>\n      <th>4</th>\n      <td>2005-01-07</td>\n      <td>A</td>\n      <td>NaN</td>\n      <td>NaN</td>\n      <td>NaN</td>\n      <td>NaN</td>\n      <td>1.0</td>\n      <td>1.0</td>\n      <td>1877200.0</td>\n      <td>22.68</td>\n      <td>22.71</td>\n      <td>22.9500</td>\n      <td>22.63</td>\n      <td>4.263121e+07</td>\n      <td>NaN</td>\n      <td>NaN</td>\n      <td>NaN</td>\n    </tr>\n    <tr>\n      <th>...</th>\n      <td>...</td>\n      <td>...</td>\n      <td>...</td>\n      <td>...</td>\n      <td>...</td>\n      <td>...</td>\n      <td>...</td>\n      <td>...</td>\n      <td>...</td>\n      <td>...</td>\n      <td>...</td>\n      <td>...</td>\n      <td>...</td>\n      <td>...</td>\n      <td>...</td>\n      <td>...</td>\n      <td>...</td>\n    </tr>\n    <tr>\n      <th>1989</th>\n      <td>2020-12-24</td>\n      <td>ZTS</td>\n      <td>NaN</td>\n      <td>NaN</td>\n      <td>NaN</td>\n      <td>NaN</td>\n      <td>1.0</td>\n      <td>1.0</td>\n      <td>434699.0</td>\n      <td>159.92</td>\n      <td>160.72</td>\n      <td>161.8699</td>\n      <td>159.85</td>\n      <td>6.986482e+07</td>\n      <td>NaN</td>\n      <td>NaN</td>\n      <td>NaN</td>\n    </tr>\n    <tr>\n      <th>1990</th>\n      <td>2020-12-28</td>\n      <td>ZTS</td>\n      <td>NaN</td>\n      <td>NaN</td>\n      <td>NaN</td>\n      <td>NaN</td>\n      <td>1.0</td>\n      <td>1.0</td>\n      <td>1541080.0</td>\n      <td>161.44</td>\n      <td>162.39</td>\n      <td>162.8300</td>\n      <td>160.31</td>\n      <td>2.502560e+08</td>\n      <td>NaN</td>\n      <td>NaN</td>\n      <td>NaN</td>\n    </tr>\n    <tr>\n      <th>1991</th>\n      <td>2020-12-29</td>\n      <td>ZTS</td>\n      <td>NaN</td>\n      <td>NaN</td>\n      <td>NaN</td>\n      <td>NaN</td>\n      <td>1.0</td>\n      <td>1.0</td>\n      <td>1202670.0</td>\n      <td>163.21</td>\n      <td>163.12</td>\n      <td>165.1000</td>\n      <td>162.40</td>\n      <td>1.961795e+08</td>\n      <td>NaN</td>\n      <td>NaN</td>\n      <td>NaN</td>\n    </tr>\n    <tr>\n      <th>1992</th>\n      <td>2020-12-30</td>\n      <td>ZTS</td>\n      <td>NaN</td>\n      <td>NaN</td>\n      <td>NaN</td>\n      <td>NaN</td>\n      <td>1.0</td>\n      <td>1.0</td>\n      <td>1023092.0</td>\n      <td>163.51</td>\n      <td>164.27</td>\n      <td>164.8000</td>\n      <td>163.16</td>\n      <td>1.680633e+08</td>\n      <td>NaN</td>\n      <td>NaN</td>\n      <td>NaN</td>\n    </tr>\n    <tr>\n      <th>1993</th>\n      <td>2020-12-31</td>\n      <td>ZTS</td>\n      <td>NaN</td>\n      <td>NaN</td>\n      <td>NaN</td>\n      <td>NaN</td>\n      <td>1.0</td>\n      <td>1.0</td>\n      <td>1302237.0</td>\n      <td>164.50</td>\n      <td>165.50</td>\n      <td>165.6750</td>\n      <td>163.23</td>\n      <td>2.155202e+08</td>\n      <td>NaN</td>\n      <td>NaN</td>\n      <td>NaN</td>\n    </tr>\n  </tbody>\n</table>\n<p>1818940 rows × 17 columns</p>\n</div>"
     },
     "metadata": {},
     "execution_count": 33
    }
   ],
   "source": [
    "data = []\n",
    "\n",
    "for i in tqdm_notebook(files):\n",
    "    data.append(pd.read_csv(i, parse_dates=[0]))\n",
    "\n",
    "dataset = pd.concat(data)\n",
    "\n",
    "dataset.drop(columns=[\"volume\", \"open\", \"close\", \"high\", \"low\", \"ratio\"], inplace=True)\n",
    "dataset"
   ]
  },
  {
   "cell_type": "code",
   "execution_count": 36,
   "metadata": {},
   "outputs": [
    {
     "output_type": "execute_result",
     "data": {
      "text/plain": [
       "           date symbol divPaymentDate divRecordDate  dividend divDeclaredDate  \\\n",
       "3691 2019-09-03      A            NaN           NaN       NaN             NaN   \n",
       "3692 2019-09-04      A            NaN           NaN       NaN             NaN   \n",
       "3693 2019-09-05      A            NaN           NaN       NaN             NaN   \n",
       "3694 2019-09-06      A            NaN           NaN       NaN             NaN   \n",
       "3695 2019-09-09      A            NaN           NaN       NaN             NaN   \n",
       "...         ...    ...            ...           ...       ...             ...   \n",
       "1989 2020-12-24    ZTS            NaN           NaN       NaN             NaN   \n",
       "1990 2020-12-28    ZTS            NaN           NaN       NaN             NaN   \n",
       "1991 2020-12-29    ZTS            NaN           NaN       NaN             NaN   \n",
       "1992 2020-12-30    ZTS            NaN           NaN       NaN             NaN   \n",
       "1993 2020-12-31    ZTS            NaN           NaN       NaN             NaN   \n",
       "\n",
       "      ratio_adj  split_factor  volume_adj  open_adj  close_adj  high_adj  \\\n",
       "3691        1.0           1.0   2252314.0     70.70      70.41   71.0400   \n",
       "3692        1.0           1.0   1834352.0     70.94      70.86   71.2200   \n",
       "3693        1.0           1.0   3014765.0     71.64      73.52   73.7100   \n",
       "3694        1.0           1.0   3139078.0     73.69      74.28   74.3700   \n",
       "3695        1.0           1.0   3009299.0     74.39      74.18   74.5900   \n",
       "...         ...           ...         ...       ...        ...       ...   \n",
       "1989        1.0           1.0    434699.0    159.92     160.72  161.8699   \n",
       "1990        1.0           1.0   1541080.0    161.44     162.39  162.8300   \n",
       "1991        1.0           1.0   1202670.0    163.21     163.12  165.1000   \n",
       "1992        1.0           1.0   1023092.0    163.51     164.27  164.8000   \n",
       "1993        1.0           1.0   1302237.0    164.50     165.50  165.6750   \n",
       "\n",
       "      low_adj  dollar_volume splitDeclaredDate  tofactor  forfactor  \n",
       "3691   69.481   1.585854e+08               NaN       NaN        NaN  \n",
       "3692   69.960   1.299822e+08               NaN       NaN        NaN  \n",
       "3693   71.640   2.216455e+08               NaN       NaN        NaN  \n",
       "3694   73.690   2.331707e+08               NaN       NaN        NaN  \n",
       "3695   73.670   2.232298e+08               NaN       NaN        NaN  \n",
       "...       ...            ...               ...       ...        ...  \n",
       "1989  159.850   6.986482e+07               NaN       NaN        NaN  \n",
       "1990  160.310   2.502560e+08               NaN       NaN        NaN  \n",
       "1991  162.400   1.961795e+08               NaN       NaN        NaN  \n",
       "1992  163.160   1.680633e+08               NaN       NaN        NaN  \n",
       "1993  163.230   2.155202e+08               NaN       NaN        NaN  \n",
       "\n",
       "[168915 rows x 17 columns]"
      ],
      "text/html": "<div>\n<style scoped>\n    .dataframe tbody tr th:only-of-type {\n        vertical-align: middle;\n    }\n\n    .dataframe tbody tr th {\n        vertical-align: top;\n    }\n\n    .dataframe thead th {\n        text-align: right;\n    }\n</style>\n<table border=\"1\" class=\"dataframe\">\n  <thead>\n    <tr style=\"text-align: right;\">\n      <th></th>\n      <th>date</th>\n      <th>symbol</th>\n      <th>divPaymentDate</th>\n      <th>divRecordDate</th>\n      <th>dividend</th>\n      <th>divDeclaredDate</th>\n      <th>ratio_adj</th>\n      <th>split_factor</th>\n      <th>volume_adj</th>\n      <th>open_adj</th>\n      <th>close_adj</th>\n      <th>high_adj</th>\n      <th>low_adj</th>\n      <th>dollar_volume</th>\n      <th>splitDeclaredDate</th>\n      <th>tofactor</th>\n      <th>forfactor</th>\n    </tr>\n  </thead>\n  <tbody>\n    <tr>\n      <th>3691</th>\n      <td>2019-09-03</td>\n      <td>A</td>\n      <td>NaN</td>\n      <td>NaN</td>\n      <td>NaN</td>\n      <td>NaN</td>\n      <td>1.0</td>\n      <td>1.0</td>\n      <td>2252314.0</td>\n      <td>70.70</td>\n      <td>70.41</td>\n      <td>71.0400</td>\n      <td>69.481</td>\n      <td>1.585854e+08</td>\n      <td>NaN</td>\n      <td>NaN</td>\n      <td>NaN</td>\n    </tr>\n    <tr>\n      <th>3692</th>\n      <td>2019-09-04</td>\n      <td>A</td>\n      <td>NaN</td>\n      <td>NaN</td>\n      <td>NaN</td>\n      <td>NaN</td>\n      <td>1.0</td>\n      <td>1.0</td>\n      <td>1834352.0</td>\n      <td>70.94</td>\n      <td>70.86</td>\n      <td>71.2200</td>\n      <td>69.960</td>\n      <td>1.299822e+08</td>\n      <td>NaN</td>\n      <td>NaN</td>\n      <td>NaN</td>\n    </tr>\n    <tr>\n      <th>3693</th>\n      <td>2019-09-05</td>\n      <td>A</td>\n      <td>NaN</td>\n      <td>NaN</td>\n      <td>NaN</td>\n      <td>NaN</td>\n      <td>1.0</td>\n      <td>1.0</td>\n      <td>3014765.0</td>\n      <td>71.64</td>\n      <td>73.52</td>\n      <td>73.7100</td>\n      <td>71.640</td>\n      <td>2.216455e+08</td>\n      <td>NaN</td>\n      <td>NaN</td>\n      <td>NaN</td>\n    </tr>\n    <tr>\n      <th>3694</th>\n      <td>2019-09-06</td>\n      <td>A</td>\n      <td>NaN</td>\n      <td>NaN</td>\n      <td>NaN</td>\n      <td>NaN</td>\n      <td>1.0</td>\n      <td>1.0</td>\n      <td>3139078.0</td>\n      <td>73.69</td>\n      <td>74.28</td>\n      <td>74.3700</td>\n      <td>73.690</td>\n      <td>2.331707e+08</td>\n      <td>NaN</td>\n      <td>NaN</td>\n      <td>NaN</td>\n    </tr>\n    <tr>\n      <th>3695</th>\n      <td>2019-09-09</td>\n      <td>A</td>\n      <td>NaN</td>\n      <td>NaN</td>\n      <td>NaN</td>\n      <td>NaN</td>\n      <td>1.0</td>\n      <td>1.0</td>\n      <td>3009299.0</td>\n      <td>74.39</td>\n      <td>74.18</td>\n      <td>74.5900</td>\n      <td>73.670</td>\n      <td>2.232298e+08</td>\n      <td>NaN</td>\n      <td>NaN</td>\n      <td>NaN</td>\n    </tr>\n    <tr>\n      <th>...</th>\n      <td>...</td>\n      <td>...</td>\n      <td>...</td>\n      <td>...</td>\n      <td>...</td>\n      <td>...</td>\n      <td>...</td>\n      <td>...</td>\n      <td>...</td>\n      <td>...</td>\n      <td>...</td>\n      <td>...</td>\n      <td>...</td>\n      <td>...</td>\n      <td>...</td>\n      <td>...</td>\n      <td>...</td>\n    </tr>\n    <tr>\n      <th>1989</th>\n      <td>2020-12-24</td>\n      <td>ZTS</td>\n      <td>NaN</td>\n      <td>NaN</td>\n      <td>NaN</td>\n      <td>NaN</td>\n      <td>1.0</td>\n      <td>1.0</td>\n      <td>434699.0</td>\n      <td>159.92</td>\n      <td>160.72</td>\n      <td>161.8699</td>\n      <td>159.850</td>\n      <td>6.986482e+07</td>\n      <td>NaN</td>\n      <td>NaN</td>\n      <td>NaN</td>\n    </tr>\n    <tr>\n      <th>1990</th>\n      <td>2020-12-28</td>\n      <td>ZTS</td>\n      <td>NaN</td>\n      <td>NaN</td>\n      <td>NaN</td>\n      <td>NaN</td>\n      <td>1.0</td>\n      <td>1.0</td>\n      <td>1541080.0</td>\n      <td>161.44</td>\n      <td>162.39</td>\n      <td>162.8300</td>\n      <td>160.310</td>\n      <td>2.502560e+08</td>\n      <td>NaN</td>\n      <td>NaN</td>\n      <td>NaN</td>\n    </tr>\n    <tr>\n      <th>1991</th>\n      <td>2020-12-29</td>\n      <td>ZTS</td>\n      <td>NaN</td>\n      <td>NaN</td>\n      <td>NaN</td>\n      <td>NaN</td>\n      <td>1.0</td>\n      <td>1.0</td>\n      <td>1202670.0</td>\n      <td>163.21</td>\n      <td>163.12</td>\n      <td>165.1000</td>\n      <td>162.400</td>\n      <td>1.961795e+08</td>\n      <td>NaN</td>\n      <td>NaN</td>\n      <td>NaN</td>\n    </tr>\n    <tr>\n      <th>1992</th>\n      <td>2020-12-30</td>\n      <td>ZTS</td>\n      <td>NaN</td>\n      <td>NaN</td>\n      <td>NaN</td>\n      <td>NaN</td>\n      <td>1.0</td>\n      <td>1.0</td>\n      <td>1023092.0</td>\n      <td>163.51</td>\n      <td>164.27</td>\n      <td>164.8000</td>\n      <td>163.160</td>\n      <td>1.680633e+08</td>\n      <td>NaN</td>\n      <td>NaN</td>\n      <td>NaN</td>\n    </tr>\n    <tr>\n      <th>1993</th>\n      <td>2020-12-31</td>\n      <td>ZTS</td>\n      <td>NaN</td>\n      <td>NaN</td>\n      <td>NaN</td>\n      <td>NaN</td>\n      <td>1.0</td>\n      <td>1.0</td>\n      <td>1302237.0</td>\n      <td>164.50</td>\n      <td>165.50</td>\n      <td>165.6750</td>\n      <td>163.230</td>\n      <td>2.155202e+08</td>\n      <td>NaN</td>\n      <td>NaN</td>\n      <td>NaN</td>\n    </tr>\n  </tbody>\n</table>\n<p>168915 rows × 17 columns</p>\n</div>"
     },
     "metadata": {},
     "execution_count": 36
    }
   ],
   "source": [
    "date_filter = dataset[dataset[\"date\"] >= \"2019-09-01\"]\n",
    "date_filter"
   ]
  },
  {
   "cell_type": "code",
   "execution_count": 92,
   "metadata": {},
   "outputs": [],
   "source": [
    "def prior_month_yoy(test_data, date_past):\n",
    "\n",
    "    test_data[\"5-Days Rolling Average (Close)\"] = test_data[\"close_adj\"].rolling(window=5).mean()\n",
    "    test_data.drop(columns=[\"volume\", \"open\", \"close\", \"high\", \"low\", \"low_adj\", \"high_adj\", \"ratio_adj\", \"split_factor\", \"volume_adj\"], inplace=True)\n",
    "    test_data[\"MonthYear\"] = test_data[\"date\"].apply(lambda x: str(x.year) + \"-\" + str(x.month))\n",
    "    test_data[\"PriorMonthYear\"] = test_data[\"date\"].apply(lambda x: str(x.year - 1) + \"-\" + str(x.month))\n",
    "\n",
    "    current_test_data = test_data[test_data[\"date\"].isin(test_data.groupby(\"MonthYear\")[\"date\"].max().reset_index()[\"date\"])]\n",
    "\n",
    "    new_dataset = pd.merge(left=current_test_data, right=current_test_data, how=\"left\", left_on=\"PriorMonthYear\", right_on=\"MonthYear\", suffixes=[\"_current\", \"prior\"])\n",
    "    new_dataset.drop(columns=[\"open_adj_current\", \"close_adj_current\", \"dollar_volume_current\", \"MonthYear_current\", \"PriorMonthYear_current\", \"dateprior\", \"symbolprior\", \"open_adjprior\", \"close_adjprior\", \"dollar_volumeprior\", \"MonthYearprior\", \"PriorMonthYearprior\"], inplace=True)\n",
    "    new_dataset[\"YoYMonthChange\"] = new_dataset[\"5-Days Rolling Average (Close)_current\"] - new_dataset[\"5-Days Rolling Average (Close)prior\"]\n",
    "\n",
    "    new_dataset = new_dataset[new_dataset[\"date_current\"] >= date_past]\n",
    "\n",
    "    return new_dataset"
   ]
  },
  {
   "cell_type": "code",
   "execution_count": 98,
   "metadata": {},
   "outputs": [
    {
     "output_type": "display_data",
     "data": {
      "text/plain": "HBox(children=(HTML(value=''), FloatProgress(value=0.0, max=505.0), HTML(value='')))",
      "application/vnd.jupyter.widget-view+json": {
       "version_major": 2,
       "version_minor": 0,
       "model_id": "c71adf7312224ddfb7b4d981387987d3"
      }
     },
     "metadata": {}
    },
    {
     "output_type": "stream",
     "name": "stdout",
     "text": [
      "\n"
     ]
    },
    {
     "output_type": "execute_result",
     "data": {
      "text/plain": [
       "    date_current symbol_current  5-Days Rolling Average (Close)_current  \\\n",
       "180   2020-01-31              A                                  85.584   \n",
       "181   2020-02-28              A                                  78.212   \n",
       "182   2020-03-31              A                                  71.584   \n",
       "183   2020-04-30              A                                  76.566   \n",
       "184   2020-05-29              A                                  86.424   \n",
       "..           ...            ...                                     ...   \n",
       "90    2020-08-31            ZTS                                 159.610   \n",
       "91    2020-09-30            ZTS                                 161.598   \n",
       "92    2020-10-30            ZTS                                 160.276   \n",
       "93    2020-11-30            ZTS                                 161.488   \n",
       "94    2020-12-31            ZTS                                 163.200   \n",
       "\n",
       "     5-Days Rolling Average (Close)prior  YoYMonthChange  \n",
       "180                               74.394          11.190  \n",
       "181                               79.034          -0.822  \n",
       "182                               79.850          -8.266  \n",
       "183                               77.152          -0.586  \n",
       "184                               67.336          19.088  \n",
       "..                                   ...             ...  \n",
       "90                               126.062          33.548  \n",
       "91                               124.876          36.722  \n",
       "92                               126.234          34.042  \n",
       "93                               120.892          40.596  \n",
       "94                               132.752          30.448  \n",
       "\n",
       "[6038 rows x 5 columns]"
      ],
      "text/html": "<div>\n<style scoped>\n    .dataframe tbody tr th:only-of-type {\n        vertical-align: middle;\n    }\n\n    .dataframe tbody tr th {\n        vertical-align: top;\n    }\n\n    .dataframe thead th {\n        text-align: right;\n    }\n</style>\n<table border=\"1\" class=\"dataframe\">\n  <thead>\n    <tr style=\"text-align: right;\">\n      <th></th>\n      <th>date_current</th>\n      <th>symbol_current</th>\n      <th>5-Days Rolling Average (Close)_current</th>\n      <th>5-Days Rolling Average (Close)prior</th>\n      <th>YoYMonthChange</th>\n    </tr>\n  </thead>\n  <tbody>\n    <tr>\n      <th>180</th>\n      <td>2020-01-31</td>\n      <td>A</td>\n      <td>85.584</td>\n      <td>74.394</td>\n      <td>11.190</td>\n    </tr>\n    <tr>\n      <th>181</th>\n      <td>2020-02-28</td>\n      <td>A</td>\n      <td>78.212</td>\n      <td>79.034</td>\n      <td>-0.822</td>\n    </tr>\n    <tr>\n      <th>182</th>\n      <td>2020-03-31</td>\n      <td>A</td>\n      <td>71.584</td>\n      <td>79.850</td>\n      <td>-8.266</td>\n    </tr>\n    <tr>\n      <th>183</th>\n      <td>2020-04-30</td>\n      <td>A</td>\n      <td>76.566</td>\n      <td>77.152</td>\n      <td>-0.586</td>\n    </tr>\n    <tr>\n      <th>184</th>\n      <td>2020-05-29</td>\n      <td>A</td>\n      <td>86.424</td>\n      <td>67.336</td>\n      <td>19.088</td>\n    </tr>\n    <tr>\n      <th>...</th>\n      <td>...</td>\n      <td>...</td>\n      <td>...</td>\n      <td>...</td>\n      <td>...</td>\n    </tr>\n    <tr>\n      <th>90</th>\n      <td>2020-08-31</td>\n      <td>ZTS</td>\n      <td>159.610</td>\n      <td>126.062</td>\n      <td>33.548</td>\n    </tr>\n    <tr>\n      <th>91</th>\n      <td>2020-09-30</td>\n      <td>ZTS</td>\n      <td>161.598</td>\n      <td>124.876</td>\n      <td>36.722</td>\n    </tr>\n    <tr>\n      <th>92</th>\n      <td>2020-10-30</td>\n      <td>ZTS</td>\n      <td>160.276</td>\n      <td>126.234</td>\n      <td>34.042</td>\n    </tr>\n    <tr>\n      <th>93</th>\n      <td>2020-11-30</td>\n      <td>ZTS</td>\n      <td>161.488</td>\n      <td>120.892</td>\n      <td>40.596</td>\n    </tr>\n    <tr>\n      <th>94</th>\n      <td>2020-12-31</td>\n      <td>ZTS</td>\n      <td>163.200</td>\n      <td>132.752</td>\n      <td>30.448</td>\n    </tr>\n  </tbody>\n</table>\n<p>6038 rows × 5 columns</p>\n</div>"
     },
     "metadata": {},
     "execution_count": 98
    }
   ],
   "source": [
    "data = []\n",
    "\n",
    "for i in tqdm_notebook(files):\n",
    "    temp = pd.read_csv(i, parse_dates=[0])\n",
    "    temp_modified = prior_month_yoy(temp, \"2020-01-01\")\n",
    "    data.append(temp_modified)\n",
    "\n",
    "dataset = pd.concat(data)\n",
    "dataset = dataset[[\"date_current\", \"symbol_current\", \"5-Days Rolling Average (Close)_current\", \"5-Days Rolling Average (Close)prior\", \"YoYMonthChange\"]]\n",
    "dataset"
   ]
  },
  {
   "cell_type": "code",
   "execution_count": 115,
   "metadata": {},
   "outputs": [
    {
     "output_type": "display_data",
     "data": {
      "text/plain": "HBox(children=(HTML(value=''), FloatProgress(value=0.0, max=505.0), HTML(value='')))",
      "application/vnd.jupyter.widget-view+json": {
       "version_major": 2,
       "version_minor": 0,
       "model_id": "10ae4f5dd6eb459597d77eb64718b48f"
      }
     },
     "metadata": {}
    },
    {
     "output_type": "stream",
     "name": "stdout",
     "text": [
      "\n"
     ]
    },
    {
     "output_type": "execute_result",
     "data": {
      "text/plain": [
       "    Ticker                     CompanyName                        Industry\n",
       "0        A       Agilent Technologies Inc.  Medical Diagnostics & Research\n",
       "1      AAL    American Airlines Group Inc.                        Airlines\n",
       "2      AAP      Advance Auto Parts Inc W/I    Retail - Apparel & Specialty\n",
       "3     AAPL                      Apple Inc.               Computer Hardware\n",
       "4     ABBV                     AbbVie Inc.              Drug Manufacturers\n",
       "..     ...                             ...                             ...\n",
       "500    YUM                Yum! Brands Inc.                     Restaurants\n",
       "501    ZBH     Zimmer Biomet Holdings Inc.                 Medical Devices\n",
       "502   ZBRA  Zebra Technologies Corporation             Industrial Products\n",
       "503   ZION       Zions Bancorporation N.A.                           Banks\n",
       "504    ZTS             Zoetis Inc. Class A              Drug Manufacturers\n",
       "\n",
       "[505 rows x 3 columns]"
      ],
      "text/html": "<div>\n<style scoped>\n    .dataframe tbody tr th:only-of-type {\n        vertical-align: middle;\n    }\n\n    .dataframe tbody tr th {\n        vertical-align: top;\n    }\n\n    .dataframe thead th {\n        text-align: right;\n    }\n</style>\n<table border=\"1\" class=\"dataframe\">\n  <thead>\n    <tr style=\"text-align: right;\">\n      <th></th>\n      <th>Ticker</th>\n      <th>CompanyName</th>\n      <th>Industry</th>\n    </tr>\n  </thead>\n  <tbody>\n    <tr>\n      <th>0</th>\n      <td>A</td>\n      <td>Agilent Technologies Inc.</td>\n      <td>Medical Diagnostics &amp; Research</td>\n    </tr>\n    <tr>\n      <th>1</th>\n      <td>AAL</td>\n      <td>American Airlines Group Inc.</td>\n      <td>Airlines</td>\n    </tr>\n    <tr>\n      <th>2</th>\n      <td>AAP</td>\n      <td>Advance Auto Parts Inc W/I</td>\n      <td>Retail - Apparel &amp; Specialty</td>\n    </tr>\n    <tr>\n      <th>3</th>\n      <td>AAPL</td>\n      <td>Apple Inc.</td>\n      <td>Computer Hardware</td>\n    </tr>\n    <tr>\n      <th>4</th>\n      <td>ABBV</td>\n      <td>AbbVie Inc.</td>\n      <td>Drug Manufacturers</td>\n    </tr>\n    <tr>\n      <th>...</th>\n      <td>...</td>\n      <td>...</td>\n      <td>...</td>\n    </tr>\n    <tr>\n      <th>500</th>\n      <td>YUM</td>\n      <td>Yum! Brands Inc.</td>\n      <td>Restaurants</td>\n    </tr>\n    <tr>\n      <th>501</th>\n      <td>ZBH</td>\n      <td>Zimmer Biomet Holdings Inc.</td>\n      <td>Medical Devices</td>\n    </tr>\n    <tr>\n      <th>502</th>\n      <td>ZBRA</td>\n      <td>Zebra Technologies Corporation</td>\n      <td>Industrial Products</td>\n    </tr>\n    <tr>\n      <th>503</th>\n      <td>ZION</td>\n      <td>Zions Bancorporation N.A.</td>\n      <td>Banks</td>\n    </tr>\n    <tr>\n      <th>504</th>\n      <td>ZTS</td>\n      <td>Zoetis Inc. Class A</td>\n      <td>Drug Manufacturers</td>\n    </tr>\n  </tbody>\n</table>\n<p>505 rows × 3 columns</p>\n</div>"
     },
     "metadata": {},
     "execution_count": 115
    }
   ],
   "source": [
    "company_name = []\n",
    "industry = []\n",
    "\n",
    "for i in tqdm_notebook(dataset[\"symbol_current\"].unique()):\n",
    "    information = requests.get(POLYGON_TICKER_INFO_URL.format(i, ALPACA_API_KEY)).json()\n",
    "    information = dict(information)\n",
    "    company_name.append(information.get(\"name\"))\n",
    "    industry.append(information.get(\"industry\"))\n",
    "\n",
    "ticker_info = pd.DataFrame({\"Ticker\":dataset[\"symbol_current\"].unique(), \"CompanyName\":company_name, \"Industry\":industry})\n",
    "ticker_info"
   ]
  },
  {
   "cell_type": "code",
   "execution_count": 116,
   "metadata": {},
   "outputs": [
    {
     "output_type": "execute_result",
     "data": {
      "text/plain": [
       "     date_current symbol_current  5-Days Rolling Average (Close)_current  \\\n",
       "0      2020-01-31              A                                  85.584   \n",
       "1      2020-02-28              A                                  78.212   \n",
       "2      2020-03-31              A                                  71.584   \n",
       "3      2020-04-30              A                                  76.566   \n",
       "4      2020-05-29              A                                  86.424   \n",
       "...           ...            ...                                     ...   \n",
       "6033   2020-08-31            ZTS                                 159.610   \n",
       "6034   2020-09-30            ZTS                                 161.598   \n",
       "6035   2020-10-30            ZTS                                 160.276   \n",
       "6036   2020-11-30            ZTS                                 161.488   \n",
       "6037   2020-12-31            ZTS                                 163.200   \n",
       "\n",
       "      5-Days Rolling Average (Close)prior  YoYMonthChange Ticker  \\\n",
       "0                                  74.394          11.190      A   \n",
       "1                                  79.034          -0.822      A   \n",
       "2                                  79.850          -8.266      A   \n",
       "3                                  77.152          -0.586      A   \n",
       "4                                  67.336          19.088      A   \n",
       "...                                   ...             ...    ...   \n",
       "6033                              126.062          33.548    ZTS   \n",
       "6034                              124.876          36.722    ZTS   \n",
       "6035                              126.234          34.042    ZTS   \n",
       "6036                              120.892          40.596    ZTS   \n",
       "6037                              132.752          30.448    ZTS   \n",
       "\n",
       "                    CompanyName                        Industry  \n",
       "0     Agilent Technologies Inc.  Medical Diagnostics & Research  \n",
       "1     Agilent Technologies Inc.  Medical Diagnostics & Research  \n",
       "2     Agilent Technologies Inc.  Medical Diagnostics & Research  \n",
       "3     Agilent Technologies Inc.  Medical Diagnostics & Research  \n",
       "4     Agilent Technologies Inc.  Medical Diagnostics & Research  \n",
       "...                         ...                             ...  \n",
       "6033        Zoetis Inc. Class A              Drug Manufacturers  \n",
       "6034        Zoetis Inc. Class A              Drug Manufacturers  \n",
       "6035        Zoetis Inc. Class A              Drug Manufacturers  \n",
       "6036        Zoetis Inc. Class A              Drug Manufacturers  \n",
       "6037        Zoetis Inc. Class A              Drug Manufacturers  \n",
       "\n",
       "[6038 rows x 8 columns]"
      ],
      "text/html": "<div>\n<style scoped>\n    .dataframe tbody tr th:only-of-type {\n        vertical-align: middle;\n    }\n\n    .dataframe tbody tr th {\n        vertical-align: top;\n    }\n\n    .dataframe thead th {\n        text-align: right;\n    }\n</style>\n<table border=\"1\" class=\"dataframe\">\n  <thead>\n    <tr style=\"text-align: right;\">\n      <th></th>\n      <th>date_current</th>\n      <th>symbol_current</th>\n      <th>5-Days Rolling Average (Close)_current</th>\n      <th>5-Days Rolling Average (Close)prior</th>\n      <th>YoYMonthChange</th>\n      <th>Ticker</th>\n      <th>CompanyName</th>\n      <th>Industry</th>\n    </tr>\n  </thead>\n  <tbody>\n    <tr>\n      <th>0</th>\n      <td>2020-01-31</td>\n      <td>A</td>\n      <td>85.584</td>\n      <td>74.394</td>\n      <td>11.190</td>\n      <td>A</td>\n      <td>Agilent Technologies Inc.</td>\n      <td>Medical Diagnostics &amp; Research</td>\n    </tr>\n    <tr>\n      <th>1</th>\n      <td>2020-02-28</td>\n      <td>A</td>\n      <td>78.212</td>\n      <td>79.034</td>\n      <td>-0.822</td>\n      <td>A</td>\n      <td>Agilent Technologies Inc.</td>\n      <td>Medical Diagnostics &amp; Research</td>\n    </tr>\n    <tr>\n      <th>2</th>\n      <td>2020-03-31</td>\n      <td>A</td>\n      <td>71.584</td>\n      <td>79.850</td>\n      <td>-8.266</td>\n      <td>A</td>\n      <td>Agilent Technologies Inc.</td>\n      <td>Medical Diagnostics &amp; Research</td>\n    </tr>\n    <tr>\n      <th>3</th>\n      <td>2020-04-30</td>\n      <td>A</td>\n      <td>76.566</td>\n      <td>77.152</td>\n      <td>-0.586</td>\n      <td>A</td>\n      <td>Agilent Technologies Inc.</td>\n      <td>Medical Diagnostics &amp; Research</td>\n    </tr>\n    <tr>\n      <th>4</th>\n      <td>2020-05-29</td>\n      <td>A</td>\n      <td>86.424</td>\n      <td>67.336</td>\n      <td>19.088</td>\n      <td>A</td>\n      <td>Agilent Technologies Inc.</td>\n      <td>Medical Diagnostics &amp; Research</td>\n    </tr>\n    <tr>\n      <th>...</th>\n      <td>...</td>\n      <td>...</td>\n      <td>...</td>\n      <td>...</td>\n      <td>...</td>\n      <td>...</td>\n      <td>...</td>\n      <td>...</td>\n    </tr>\n    <tr>\n      <th>6033</th>\n      <td>2020-08-31</td>\n      <td>ZTS</td>\n      <td>159.610</td>\n      <td>126.062</td>\n      <td>33.548</td>\n      <td>ZTS</td>\n      <td>Zoetis Inc. Class A</td>\n      <td>Drug Manufacturers</td>\n    </tr>\n    <tr>\n      <th>6034</th>\n      <td>2020-09-30</td>\n      <td>ZTS</td>\n      <td>161.598</td>\n      <td>124.876</td>\n      <td>36.722</td>\n      <td>ZTS</td>\n      <td>Zoetis Inc. Class A</td>\n      <td>Drug Manufacturers</td>\n    </tr>\n    <tr>\n      <th>6035</th>\n      <td>2020-10-30</td>\n      <td>ZTS</td>\n      <td>160.276</td>\n      <td>126.234</td>\n      <td>34.042</td>\n      <td>ZTS</td>\n      <td>Zoetis Inc. Class A</td>\n      <td>Drug Manufacturers</td>\n    </tr>\n    <tr>\n      <th>6036</th>\n      <td>2020-11-30</td>\n      <td>ZTS</td>\n      <td>161.488</td>\n      <td>120.892</td>\n      <td>40.596</td>\n      <td>ZTS</td>\n      <td>Zoetis Inc. Class A</td>\n      <td>Drug Manufacturers</td>\n    </tr>\n    <tr>\n      <th>6037</th>\n      <td>2020-12-31</td>\n      <td>ZTS</td>\n      <td>163.200</td>\n      <td>132.752</td>\n      <td>30.448</td>\n      <td>ZTS</td>\n      <td>Zoetis Inc. Class A</td>\n      <td>Drug Manufacturers</td>\n    </tr>\n  </tbody>\n</table>\n<p>6038 rows × 8 columns</p>\n</div>"
     },
     "metadata": {},
     "execution_count": 116
    }
   ],
   "source": [
    "enriched_dataset = pd.merge(dataset, ticker_info, how=\"left\", left_on= \"symbol_current\", right_on=\"Ticker\")\n",
    "enriched_dataset"
   ]
  },
  {
   "cell_type": "code",
   "execution_count": 100,
   "metadata": {},
   "outputs": [],
   "source": [
    "dataset.to_csv(\"test\")"
   ]
  },
  {
   "cell_type": "code",
   "execution_count": 99,
   "metadata": {},
   "outputs": [
    {
     "output_type": "execute_result",
     "data": {
      "text/plain": [
       "    date_current symbol_current  5-Days Rolling Average (Close)_current  \\\n",
       "181   2020-02-28              A                                  78.212   \n",
       "182   2020-03-31              A                                  71.584   \n",
       "183   2020-04-30              A                                  76.566   \n",
       "73    2020-01-31            AAL                                  26.874   \n",
       "74    2020-02-28            AAL                                  22.106   \n",
       "..           ...            ...                                     ...   \n",
       "187   2020-08-31           ZION                                  32.762   \n",
       "188   2020-09-30           ZION                                  28.848   \n",
       "189   2020-10-30           ZION                                  31.594   \n",
       "190   2020-11-30           ZION                                  40.084   \n",
       "191   2020-12-31           ZION                                  43.226   \n",
       "\n",
       "     5-Days Rolling Average (Close)prior  YoYMonthChange  \n",
       "181                               79.034          -0.822  \n",
       "182                               79.850          -8.266  \n",
       "183                               77.152          -0.586  \n",
       "73                                35.990          -9.116  \n",
       "74                                35.792         -13.686  \n",
       "..                                   ...             ...  \n",
       "187                               40.314          -7.552  \n",
       "188                               44.196         -15.348  \n",
       "189                               48.764         -17.170  \n",
       "190                               49.928          -9.844  \n",
       "191                               51.676          -8.450  \n",
       "\n",
       "[2919 rows x 5 columns]"
      ],
      "text/html": "<div>\n<style scoped>\n    .dataframe tbody tr th:only-of-type {\n        vertical-align: middle;\n    }\n\n    .dataframe tbody tr th {\n        vertical-align: top;\n    }\n\n    .dataframe thead th {\n        text-align: right;\n    }\n</style>\n<table border=\"1\" class=\"dataframe\">\n  <thead>\n    <tr style=\"text-align: right;\">\n      <th></th>\n      <th>date_current</th>\n      <th>symbol_current</th>\n      <th>5-Days Rolling Average (Close)_current</th>\n      <th>5-Days Rolling Average (Close)prior</th>\n      <th>YoYMonthChange</th>\n    </tr>\n  </thead>\n  <tbody>\n    <tr>\n      <th>181</th>\n      <td>2020-02-28</td>\n      <td>A</td>\n      <td>78.212</td>\n      <td>79.034</td>\n      <td>-0.822</td>\n    </tr>\n    <tr>\n      <th>182</th>\n      <td>2020-03-31</td>\n      <td>A</td>\n      <td>71.584</td>\n      <td>79.850</td>\n      <td>-8.266</td>\n    </tr>\n    <tr>\n      <th>183</th>\n      <td>2020-04-30</td>\n      <td>A</td>\n      <td>76.566</td>\n      <td>77.152</td>\n      <td>-0.586</td>\n    </tr>\n    <tr>\n      <th>73</th>\n      <td>2020-01-31</td>\n      <td>AAL</td>\n      <td>26.874</td>\n      <td>35.990</td>\n      <td>-9.116</td>\n    </tr>\n    <tr>\n      <th>74</th>\n      <td>2020-02-28</td>\n      <td>AAL</td>\n      <td>22.106</td>\n      <td>35.792</td>\n      <td>-13.686</td>\n    </tr>\n    <tr>\n      <th>...</th>\n      <td>...</td>\n      <td>...</td>\n      <td>...</td>\n      <td>...</td>\n      <td>...</td>\n    </tr>\n    <tr>\n      <th>187</th>\n      <td>2020-08-31</td>\n      <td>ZION</td>\n      <td>32.762</td>\n      <td>40.314</td>\n      <td>-7.552</td>\n    </tr>\n    <tr>\n      <th>188</th>\n      <td>2020-09-30</td>\n      <td>ZION</td>\n      <td>28.848</td>\n      <td>44.196</td>\n      <td>-15.348</td>\n    </tr>\n    <tr>\n      <th>189</th>\n      <td>2020-10-30</td>\n      <td>ZION</td>\n      <td>31.594</td>\n      <td>48.764</td>\n      <td>-17.170</td>\n    </tr>\n    <tr>\n      <th>190</th>\n      <td>2020-11-30</td>\n      <td>ZION</td>\n      <td>40.084</td>\n      <td>49.928</td>\n      <td>-9.844</td>\n    </tr>\n    <tr>\n      <th>191</th>\n      <td>2020-12-31</td>\n      <td>ZION</td>\n      <td>43.226</td>\n      <td>51.676</td>\n      <td>-8.450</td>\n    </tr>\n  </tbody>\n</table>\n<p>2919 rows × 5 columns</p>\n</div>"
     },
     "metadata": {},
     "execution_count": 99
    }
   ],
   "source": [
    "dataset[dataset[\"YoYMonthChange\"] < 0]"
   ]
  },
  {
   "source": [
    "# Test on Apple Data"
   ],
   "cell_type": "markdown",
   "metadata": {}
  },
  {
   "cell_type": "code",
   "execution_count": 70,
   "metadata": {},
   "outputs": [
    {
     "output_type": "execute_result",
     "data": {
      "text/plain": [
       "           date symbol    open_adj   close_adj  dollar_volume  \\\n",
       "0    2005-01-03   AAPL    1.156786    1.130179   7.824056e+08   \n",
       "1    2005-01-04   AAPL    1.139286    1.141786   1.252760e+09   \n",
       "2    2005-01-05   AAPL    1.149107    1.151786   7.840540e+08   \n",
       "3    2005-01-06   AAPL    1.155089    1.152679   8.116494e+08   \n",
       "4    2005-01-07   AAPL    1.160714    1.236607   2.763760e+09   \n",
       "...         ...    ...         ...         ...            ...   \n",
       "4023 2020-12-24   AAPL  131.320000  131.970000   7.346393e+09   \n",
       "4024 2020-12-28   AAPL  133.990000  136.690000   1.739429e+10   \n",
       "4025 2020-12-29   AAPL  138.050000  134.870000   1.660476e+10   \n",
       "4026 2020-12-30   AAPL  135.580000  133.720000   1.299396e+10   \n",
       "4027 2020-12-31   AAPL  134.080000  132.690000   1.338030e+10   \n",
       "\n",
       "      5-Days Rolling Average (Close) MonthYear PriorMonthYear  \n",
       "0                                NaN    2005-1         2004-1  \n",
       "1                                NaN    2005-1         2004-1  \n",
       "2                                NaN    2005-1         2004-1  \n",
       "3                                NaN    2005-1         2004-1  \n",
       "4                           1.162607    2005-1         2004-1  \n",
       "...                              ...       ...            ...  \n",
       "4023                      129.939000   2020-12        2019-12  \n",
       "4024                      131.946000   2020-12        2019-12  \n",
       "4025                      133.274000   2020-12        2019-12  \n",
       "4026                      133.642000   2020-12        2019-12  \n",
       "4027                      133.988000   2020-12        2019-12  \n",
       "\n",
       "[4028 rows x 8 columns]"
      ],
      "text/html": "<div>\n<style scoped>\n    .dataframe tbody tr th:only-of-type {\n        vertical-align: middle;\n    }\n\n    .dataframe tbody tr th {\n        vertical-align: top;\n    }\n\n    .dataframe thead th {\n        text-align: right;\n    }\n</style>\n<table border=\"1\" class=\"dataframe\">\n  <thead>\n    <tr style=\"text-align: right;\">\n      <th></th>\n      <th>date</th>\n      <th>symbol</th>\n      <th>open_adj</th>\n      <th>close_adj</th>\n      <th>dollar_volume</th>\n      <th>5-Days Rolling Average (Close)</th>\n      <th>MonthYear</th>\n      <th>PriorMonthYear</th>\n    </tr>\n  </thead>\n  <tbody>\n    <tr>\n      <th>0</th>\n      <td>2005-01-03</td>\n      <td>AAPL</td>\n      <td>1.156786</td>\n      <td>1.130179</td>\n      <td>7.824056e+08</td>\n      <td>NaN</td>\n      <td>2005-1</td>\n      <td>2004-1</td>\n    </tr>\n    <tr>\n      <th>1</th>\n      <td>2005-01-04</td>\n      <td>AAPL</td>\n      <td>1.139286</td>\n      <td>1.141786</td>\n      <td>1.252760e+09</td>\n      <td>NaN</td>\n      <td>2005-1</td>\n      <td>2004-1</td>\n    </tr>\n    <tr>\n      <th>2</th>\n      <td>2005-01-05</td>\n      <td>AAPL</td>\n      <td>1.149107</td>\n      <td>1.151786</td>\n      <td>7.840540e+08</td>\n      <td>NaN</td>\n      <td>2005-1</td>\n      <td>2004-1</td>\n    </tr>\n    <tr>\n      <th>3</th>\n      <td>2005-01-06</td>\n      <td>AAPL</td>\n      <td>1.155089</td>\n      <td>1.152679</td>\n      <td>8.116494e+08</td>\n      <td>NaN</td>\n      <td>2005-1</td>\n      <td>2004-1</td>\n    </tr>\n    <tr>\n      <th>4</th>\n      <td>2005-01-07</td>\n      <td>AAPL</td>\n      <td>1.160714</td>\n      <td>1.236607</td>\n      <td>2.763760e+09</td>\n      <td>1.162607</td>\n      <td>2005-1</td>\n      <td>2004-1</td>\n    </tr>\n    <tr>\n      <th>...</th>\n      <td>...</td>\n      <td>...</td>\n      <td>...</td>\n      <td>...</td>\n      <td>...</td>\n      <td>...</td>\n      <td>...</td>\n      <td>...</td>\n    </tr>\n    <tr>\n      <th>4023</th>\n      <td>2020-12-24</td>\n      <td>AAPL</td>\n      <td>131.320000</td>\n      <td>131.970000</td>\n      <td>7.346393e+09</td>\n      <td>129.939000</td>\n      <td>2020-12</td>\n      <td>2019-12</td>\n    </tr>\n    <tr>\n      <th>4024</th>\n      <td>2020-12-28</td>\n      <td>AAPL</td>\n      <td>133.990000</td>\n      <td>136.690000</td>\n      <td>1.739429e+10</td>\n      <td>131.946000</td>\n      <td>2020-12</td>\n      <td>2019-12</td>\n    </tr>\n    <tr>\n      <th>4025</th>\n      <td>2020-12-29</td>\n      <td>AAPL</td>\n      <td>138.050000</td>\n      <td>134.870000</td>\n      <td>1.660476e+10</td>\n      <td>133.274000</td>\n      <td>2020-12</td>\n      <td>2019-12</td>\n    </tr>\n    <tr>\n      <th>4026</th>\n      <td>2020-12-30</td>\n      <td>AAPL</td>\n      <td>135.580000</td>\n      <td>133.720000</td>\n      <td>1.299396e+10</td>\n      <td>133.642000</td>\n      <td>2020-12</td>\n      <td>2019-12</td>\n    </tr>\n    <tr>\n      <th>4027</th>\n      <td>2020-12-31</td>\n      <td>AAPL</td>\n      <td>134.080000</td>\n      <td>132.690000</td>\n      <td>1.338030e+10</td>\n      <td>133.988000</td>\n      <td>2020-12</td>\n      <td>2019-12</td>\n    </tr>\n  </tbody>\n</table>\n<p>4028 rows × 8 columns</p>\n</div>"
     },
     "metadata": {},
     "execution_count": 70
    }
   ],
   "source": [
    "test_data = pd.read_csv(pwd + \"\\\\data\\\\bars_adj\\\\AAPL.csv\", parse_dates=[0])\n",
    "\n",
    "test_data[\"5-Days Rolling Average (Close)\"] = test_data[\"close_adj\"].rolling(window=5).mean()\n",
    "test_data.drop(columns=[\"volume\", \"open\", \"close\", \"high\", \"low\", \"ratio\", \"splitDeclaredDate\", \"tofactor\", \"forfactor\", \"divPaymentDate\", \"divRecordDate\", \"low_adj\", \"high_adj\", \"dividend\", \"divDeclaredDate\", \"ratio_adj\", \"split_factor\", \"volume_adj\"], inplace=True)\n",
    "test_data[\"MonthYear\"] = test_data[\"date\"].apply(lambda x: str(x.year) + \"-\" + str(x.month))\n",
    "test_data[\"PriorMonthYear\"] = test_data[\"date\"].apply(lambda x: str(x.year - 1) + \"-\" + str(x.month))\n",
    "test_data"
   ]
  },
  {
   "cell_type": "code",
   "execution_count": 71,
   "metadata": {},
   "outputs": [
    {
     "output_type": "execute_result",
     "data": {
      "text/plain": [
       "           date symbol    open_adj   close_adj  dollar_volume  \\\n",
       "19   2005-01-31   AAPL    1.331786    1.373214   2.311189e+09   \n",
       "38   2005-02-28   AAPL    1.595714    1.602143   1.046368e+09   \n",
       "60   2005-03-31   AAPL    1.516071    1.488214   9.479706e+08   \n",
       "81   2005-04-29   AAPL    1.291071    1.287857   8.657513e+08   \n",
       "102  2005-05-31   AAPL    1.452143    1.419975   5.753347e+08   \n",
       "...         ...    ...         ...         ...            ...   \n",
       "3942 2020-08-31   AAPL  127.580000  129.040000   2.911551e+10   \n",
       "3963 2020-09-30   AAPL  113.770000  115.810000   1.575654e+10   \n",
       "3985 2020-10-30   AAPL  111.060000  108.860000   2.074300e+10   \n",
       "4005 2020-11-30   AAPL  116.970000  119.050000   2.016606e+10   \n",
       "4027 2020-12-31   AAPL  134.080000  132.690000   1.338030e+10   \n",
       "\n",
       "      5-Days Rolling Average (Close) MonthYear PriorMonthYear  \n",
       "19                          1.313643    2005-1         2004-1  \n",
       "38                          1.575571    2005-2         2004-2  \n",
       "60                          1.508929    2005-3         2004-3  \n",
       "81                          1.290857    2005-4         2004-4  \n",
       "102                         1.432424    2005-5         2004-5  \n",
       "...                              ...       ...            ...  \n",
       "3942                      126.041000    2020-8         2019-8  \n",
       "3963                      113.072000    2020-9         2019-9  \n",
       "3985                      113.406000   2020-10        2019-10  \n",
       "4005                      116.138000   2020-11        2019-11  \n",
       "4027                      133.988000   2020-12        2019-12  \n",
       "\n",
       "[192 rows x 8 columns]"
      ],
      "text/html": "<div>\n<style scoped>\n    .dataframe tbody tr th:only-of-type {\n        vertical-align: middle;\n    }\n\n    .dataframe tbody tr th {\n        vertical-align: top;\n    }\n\n    .dataframe thead th {\n        text-align: right;\n    }\n</style>\n<table border=\"1\" class=\"dataframe\">\n  <thead>\n    <tr style=\"text-align: right;\">\n      <th></th>\n      <th>date</th>\n      <th>symbol</th>\n      <th>open_adj</th>\n      <th>close_adj</th>\n      <th>dollar_volume</th>\n      <th>5-Days Rolling Average (Close)</th>\n      <th>MonthYear</th>\n      <th>PriorMonthYear</th>\n    </tr>\n  </thead>\n  <tbody>\n    <tr>\n      <th>19</th>\n      <td>2005-01-31</td>\n      <td>AAPL</td>\n      <td>1.331786</td>\n      <td>1.373214</td>\n      <td>2.311189e+09</td>\n      <td>1.313643</td>\n      <td>2005-1</td>\n      <td>2004-1</td>\n    </tr>\n    <tr>\n      <th>38</th>\n      <td>2005-02-28</td>\n      <td>AAPL</td>\n      <td>1.595714</td>\n      <td>1.602143</td>\n      <td>1.046368e+09</td>\n      <td>1.575571</td>\n      <td>2005-2</td>\n      <td>2004-2</td>\n    </tr>\n    <tr>\n      <th>60</th>\n      <td>2005-03-31</td>\n      <td>AAPL</td>\n      <td>1.516071</td>\n      <td>1.488214</td>\n      <td>9.479706e+08</td>\n      <td>1.508929</td>\n      <td>2005-3</td>\n      <td>2004-3</td>\n    </tr>\n    <tr>\n      <th>81</th>\n      <td>2005-04-29</td>\n      <td>AAPL</td>\n      <td>1.291071</td>\n      <td>1.287857</td>\n      <td>8.657513e+08</td>\n      <td>1.290857</td>\n      <td>2005-4</td>\n      <td>2004-4</td>\n    </tr>\n    <tr>\n      <th>102</th>\n      <td>2005-05-31</td>\n      <td>AAPL</td>\n      <td>1.452143</td>\n      <td>1.419975</td>\n      <td>5.753347e+08</td>\n      <td>1.432424</td>\n      <td>2005-5</td>\n      <td>2004-5</td>\n    </tr>\n    <tr>\n      <th>...</th>\n      <td>...</td>\n      <td>...</td>\n      <td>...</td>\n      <td>...</td>\n      <td>...</td>\n      <td>...</td>\n      <td>...</td>\n      <td>...</td>\n    </tr>\n    <tr>\n      <th>3942</th>\n      <td>2020-08-31</td>\n      <td>AAPL</td>\n      <td>127.580000</td>\n      <td>129.040000</td>\n      <td>2.911551e+10</td>\n      <td>126.041000</td>\n      <td>2020-8</td>\n      <td>2019-8</td>\n    </tr>\n    <tr>\n      <th>3963</th>\n      <td>2020-09-30</td>\n      <td>AAPL</td>\n      <td>113.770000</td>\n      <td>115.810000</td>\n      <td>1.575654e+10</td>\n      <td>113.072000</td>\n      <td>2020-9</td>\n      <td>2019-9</td>\n    </tr>\n    <tr>\n      <th>3985</th>\n      <td>2020-10-30</td>\n      <td>AAPL</td>\n      <td>111.060000</td>\n      <td>108.860000</td>\n      <td>2.074300e+10</td>\n      <td>113.406000</td>\n      <td>2020-10</td>\n      <td>2019-10</td>\n    </tr>\n    <tr>\n      <th>4005</th>\n      <td>2020-11-30</td>\n      <td>AAPL</td>\n      <td>116.970000</td>\n      <td>119.050000</td>\n      <td>2.016606e+10</td>\n      <td>116.138000</td>\n      <td>2020-11</td>\n      <td>2019-11</td>\n    </tr>\n    <tr>\n      <th>4027</th>\n      <td>2020-12-31</td>\n      <td>AAPL</td>\n      <td>134.080000</td>\n      <td>132.690000</td>\n      <td>1.338030e+10</td>\n      <td>133.988000</td>\n      <td>2020-12</td>\n      <td>2019-12</td>\n    </tr>\n  </tbody>\n</table>\n<p>192 rows × 8 columns</p>\n</div>"
     },
     "metadata": {},
     "execution_count": 71
    }
   ],
   "source": [
    "current_test_data = test_data[test_data[\"date\"].isin(test_data.groupby(\"MonthYear\")[\"date\"].max().reset_index()[\"date\"])]\n",
    "current_test_data"
   ]
  },
  {
   "cell_type": "code",
   "execution_count": 79,
   "metadata": {},
   "outputs": [
    {
     "output_type": "execute_result",
     "data": {
      "text/plain": [
       "    date_current symbol_current  5-Days Rolling Average (Close)_current  \\\n",
       "0     2005-01-31           AAPL                                1.313643   \n",
       "1     2005-02-28           AAPL                                1.575571   \n",
       "2     2005-03-31           AAPL                                1.508929   \n",
       "3     2005-04-29           AAPL                                1.290857   \n",
       "4     2005-05-31           AAPL                                1.432424   \n",
       "..           ...            ...                                     ...   \n",
       "187   2020-08-31           AAPL                              126.041000   \n",
       "188   2020-09-30           AAPL                              113.072000   \n",
       "189   2020-10-30           AAPL                              113.406000   \n",
       "190   2020-11-30           AAPL                              116.138000   \n",
       "191   2020-12-31           AAPL                              133.988000   \n",
       "\n",
       "     5-Days Rolling Average (Close)prior  YoYMonthChange  \n",
       "0                                    NaN             NaN  \n",
       "1                                    NaN             NaN  \n",
       "2                                    NaN             NaN  \n",
       "3                                    NaN             NaN  \n",
       "4                                    NaN             NaN  \n",
       "..                                   ...             ...  \n",
       "187                              51.6965         74.3445  \n",
       "188                              55.0695         58.0025  \n",
       "189                              61.5470         51.8590  \n",
       "190                              66.3765         49.7615  \n",
       "191                              72.4575         61.5305  \n",
       "\n",
       "[192 rows x 5 columns]"
      ],
      "text/html": "<div>\n<style scoped>\n    .dataframe tbody tr th:only-of-type {\n        vertical-align: middle;\n    }\n\n    .dataframe tbody tr th {\n        vertical-align: top;\n    }\n\n    .dataframe thead th {\n        text-align: right;\n    }\n</style>\n<table border=\"1\" class=\"dataframe\">\n  <thead>\n    <tr style=\"text-align: right;\">\n      <th></th>\n      <th>date_current</th>\n      <th>symbol_current</th>\n      <th>5-Days Rolling Average (Close)_current</th>\n      <th>5-Days Rolling Average (Close)prior</th>\n      <th>YoYMonthChange</th>\n    </tr>\n  </thead>\n  <tbody>\n    <tr>\n      <th>0</th>\n      <td>2005-01-31</td>\n      <td>AAPL</td>\n      <td>1.313643</td>\n      <td>NaN</td>\n      <td>NaN</td>\n    </tr>\n    <tr>\n      <th>1</th>\n      <td>2005-02-28</td>\n      <td>AAPL</td>\n      <td>1.575571</td>\n      <td>NaN</td>\n      <td>NaN</td>\n    </tr>\n    <tr>\n      <th>2</th>\n      <td>2005-03-31</td>\n      <td>AAPL</td>\n      <td>1.508929</td>\n      <td>NaN</td>\n      <td>NaN</td>\n    </tr>\n    <tr>\n      <th>3</th>\n      <td>2005-04-29</td>\n      <td>AAPL</td>\n      <td>1.290857</td>\n      <td>NaN</td>\n      <td>NaN</td>\n    </tr>\n    <tr>\n      <th>4</th>\n      <td>2005-05-31</td>\n      <td>AAPL</td>\n      <td>1.432424</td>\n      <td>NaN</td>\n      <td>NaN</td>\n    </tr>\n    <tr>\n      <th>...</th>\n      <td>...</td>\n      <td>...</td>\n      <td>...</td>\n      <td>...</td>\n      <td>...</td>\n    </tr>\n    <tr>\n      <th>187</th>\n      <td>2020-08-31</td>\n      <td>AAPL</td>\n      <td>126.041000</td>\n      <td>51.6965</td>\n      <td>74.3445</td>\n    </tr>\n    <tr>\n      <th>188</th>\n      <td>2020-09-30</td>\n      <td>AAPL</td>\n      <td>113.072000</td>\n      <td>55.0695</td>\n      <td>58.0025</td>\n    </tr>\n    <tr>\n      <th>189</th>\n      <td>2020-10-30</td>\n      <td>AAPL</td>\n      <td>113.406000</td>\n      <td>61.5470</td>\n      <td>51.8590</td>\n    </tr>\n    <tr>\n      <th>190</th>\n      <td>2020-11-30</td>\n      <td>AAPL</td>\n      <td>116.138000</td>\n      <td>66.3765</td>\n      <td>49.7615</td>\n    </tr>\n    <tr>\n      <th>191</th>\n      <td>2020-12-31</td>\n      <td>AAPL</td>\n      <td>133.988000</td>\n      <td>72.4575</td>\n      <td>61.5305</td>\n    </tr>\n  </tbody>\n</table>\n<p>192 rows × 5 columns</p>\n</div>"
     },
     "metadata": {},
     "execution_count": 79
    }
   ],
   "source": [
    "new_dataset = pd.merge(left=current_test_data, right=current_test_data, how=\"left\", left_on=\"PriorMonthYear\", right_on=\"MonthYear\", suffixes=[\"_current\", \"prior\"])\n",
    "new_dataset.drop(columns=[\"open_adj_current\", \"close_adj_current\", \"dollar_volume_current\", \"MonthYear_current\", \"PriorMonthYear_current\", \"dateprior\", \"symbolprior\", \"open_adjprior\", \"close_adjprior\", \"dollar_volumeprior\", \"MonthYearprior\", \"PriorMonthYearprior\"], inplace=True)\n",
    "new_dataset[\"YoYMonthChange\"] = new_dataset[\"5-Days Rolling Average (Close)_current\"] - new_dataset[\"5-Days Rolling Average (Close)prior\"]\n",
    "new_dataset"
   ]
  },
  {
   "cell_type": "code",
   "execution_count": null,
   "metadata": {},
   "outputs": [],
   "source": []
  },
  {
   "cell_type": "code",
   "execution_count": 62,
   "metadata": {},
   "outputs": [
    {
     "output_type": "execute_result",
     "data": {
      "text/plain": [
       "    MonthYear_x       date symbol  dividend divDeclaredDate  ratio_adj  \\\n",
       "0        2005-1 2005-01-31   AAPL       NaN             NaN        NaN   \n",
       "1       2005-10 2005-10-31   AAPL       NaN             NaN        NaN   \n",
       "2       2005-11 2005-11-30   AAPL       NaN             NaN        NaN   \n",
       "3       2005-12 2005-12-30   AAPL       NaN             NaN        NaN   \n",
       "4        2005-2 2005-02-28   AAPL       NaN             NaN       0.50   \n",
       "..          ...        ...    ...       ...             ...        ...   \n",
       "187      2020-5 2020-05-29   AAPL       NaN             NaN        NaN   \n",
       "188      2020-6 2020-06-30   AAPL       NaN             NaN        NaN   \n",
       "189      2020-7 2020-07-31   AAPL       NaN             NaN        NaN   \n",
       "190      2020-8 2020-08-31   AAPL       NaN             NaN       0.25   \n",
       "191      2020-9 2020-09-30   AAPL       NaN             NaN        NaN   \n",
       "\n",
       "     split_factor    volume_adj    open_adj   close_adj  dollar_volume  \\\n",
       "0            56.0  1.683051e+09    1.331786    1.373214   2.311189e+09   \n",
       "1            28.0  9.442679e+08    1.971429    2.056786   1.942157e+09   \n",
       "2            28.0  5.953278e+08    2.443929    2.422143   1.441969e+09   \n",
       "3            28.0  6.240182e+08    2.532500    2.567500   1.602167e+09   \n",
       "4            28.0  6.531050e+08    1.595714    1.602143   1.046368e+09   \n",
       "..            ...           ...         ...         ...            ...   \n",
       "187           4.0  1.535981e+08   79.812500   79.485000   1.220875e+10   \n",
       "188           4.0  1.402180e+08   90.020000   91.200000   1.278788e+10   \n",
       "189           4.0  3.814660e+08  102.883750  106.260000   4.053458e+10   \n",
       "190           1.0  2.256317e+08  127.580000  129.040000   2.911551e+10   \n",
       "191           1.0  1.360551e+08  113.770000  115.810000   1.575654e+10   \n",
       "\n",
       "     5-Days Rolling Average (Close) MonthYear_y PriorMonthYear  \n",
       "0                          1.313643      2005-1         2004-1  \n",
       "1                          2.004286     2005-10        2004-10  \n",
       "2                          2.443071     2005-11        2004-11  \n",
       "3                          2.603500     2005-12        2004-12  \n",
       "4                          1.575571      2005-2         2004-2  \n",
       "..                              ...         ...            ...  \n",
       "187                       79.496000      2020-5         2019-5  \n",
       "188                       90.255500      2020-6         2019-6  \n",
       "189                       97.110500      2020-7         2019-7  \n",
       "190                      126.041000      2020-8         2019-8  \n",
       "191                      113.072000      2020-9         2019-9  \n",
       "\n",
       "[192 rows x 14 columns]"
      ],
      "text/html": "<div>\n<style scoped>\n    .dataframe tbody tr th:only-of-type {\n        vertical-align: middle;\n    }\n\n    .dataframe tbody tr th {\n        vertical-align: top;\n    }\n\n    .dataframe thead th {\n        text-align: right;\n    }\n</style>\n<table border=\"1\" class=\"dataframe\">\n  <thead>\n    <tr style=\"text-align: right;\">\n      <th></th>\n      <th>MonthYear_x</th>\n      <th>date</th>\n      <th>symbol</th>\n      <th>dividend</th>\n      <th>divDeclaredDate</th>\n      <th>ratio_adj</th>\n      <th>split_factor</th>\n      <th>volume_adj</th>\n      <th>open_adj</th>\n      <th>close_adj</th>\n      <th>dollar_volume</th>\n      <th>5-Days Rolling Average (Close)</th>\n      <th>MonthYear_y</th>\n      <th>PriorMonthYear</th>\n    </tr>\n  </thead>\n  <tbody>\n    <tr>\n      <th>0</th>\n      <td>2005-1</td>\n      <td>2005-01-31</td>\n      <td>AAPL</td>\n      <td>NaN</td>\n      <td>NaN</td>\n      <td>NaN</td>\n      <td>56.0</td>\n      <td>1.683051e+09</td>\n      <td>1.331786</td>\n      <td>1.373214</td>\n      <td>2.311189e+09</td>\n      <td>1.313643</td>\n      <td>2005-1</td>\n      <td>2004-1</td>\n    </tr>\n    <tr>\n      <th>1</th>\n      <td>2005-10</td>\n      <td>2005-10-31</td>\n      <td>AAPL</td>\n      <td>NaN</td>\n      <td>NaN</td>\n      <td>NaN</td>\n      <td>28.0</td>\n      <td>9.442679e+08</td>\n      <td>1.971429</td>\n      <td>2.056786</td>\n      <td>1.942157e+09</td>\n      <td>2.004286</td>\n      <td>2005-10</td>\n      <td>2004-10</td>\n    </tr>\n    <tr>\n      <th>2</th>\n      <td>2005-11</td>\n      <td>2005-11-30</td>\n      <td>AAPL</td>\n      <td>NaN</td>\n      <td>NaN</td>\n      <td>NaN</td>\n      <td>28.0</td>\n      <td>5.953278e+08</td>\n      <td>2.443929</td>\n      <td>2.422143</td>\n      <td>1.441969e+09</td>\n      <td>2.443071</td>\n      <td>2005-11</td>\n      <td>2004-11</td>\n    </tr>\n    <tr>\n      <th>3</th>\n      <td>2005-12</td>\n      <td>2005-12-30</td>\n      <td>AAPL</td>\n      <td>NaN</td>\n      <td>NaN</td>\n      <td>NaN</td>\n      <td>28.0</td>\n      <td>6.240182e+08</td>\n      <td>2.532500</td>\n      <td>2.567500</td>\n      <td>1.602167e+09</td>\n      <td>2.603500</td>\n      <td>2005-12</td>\n      <td>2004-12</td>\n    </tr>\n    <tr>\n      <th>4</th>\n      <td>2005-2</td>\n      <td>2005-02-28</td>\n      <td>AAPL</td>\n      <td>NaN</td>\n      <td>NaN</td>\n      <td>0.50</td>\n      <td>28.0</td>\n      <td>6.531050e+08</td>\n      <td>1.595714</td>\n      <td>1.602143</td>\n      <td>1.046368e+09</td>\n      <td>1.575571</td>\n      <td>2005-2</td>\n      <td>2004-2</td>\n    </tr>\n    <tr>\n      <th>...</th>\n      <td>...</td>\n      <td>...</td>\n      <td>...</td>\n      <td>...</td>\n      <td>...</td>\n      <td>...</td>\n      <td>...</td>\n      <td>...</td>\n      <td>...</td>\n      <td>...</td>\n      <td>...</td>\n      <td>...</td>\n      <td>...</td>\n      <td>...</td>\n    </tr>\n    <tr>\n      <th>187</th>\n      <td>2020-5</td>\n      <td>2020-05-29</td>\n      <td>AAPL</td>\n      <td>NaN</td>\n      <td>NaN</td>\n      <td>NaN</td>\n      <td>4.0</td>\n      <td>1.535981e+08</td>\n      <td>79.812500</td>\n      <td>79.485000</td>\n      <td>1.220875e+10</td>\n      <td>79.496000</td>\n      <td>2020-5</td>\n      <td>2019-5</td>\n    </tr>\n    <tr>\n      <th>188</th>\n      <td>2020-6</td>\n      <td>2020-06-30</td>\n      <td>AAPL</td>\n      <td>NaN</td>\n      <td>NaN</td>\n      <td>NaN</td>\n      <td>4.0</td>\n      <td>1.402180e+08</td>\n      <td>90.020000</td>\n      <td>91.200000</td>\n      <td>1.278788e+10</td>\n      <td>90.255500</td>\n      <td>2020-6</td>\n      <td>2019-6</td>\n    </tr>\n    <tr>\n      <th>189</th>\n      <td>2020-7</td>\n      <td>2020-07-31</td>\n      <td>AAPL</td>\n      <td>NaN</td>\n      <td>NaN</td>\n      <td>NaN</td>\n      <td>4.0</td>\n      <td>3.814660e+08</td>\n      <td>102.883750</td>\n      <td>106.260000</td>\n      <td>4.053458e+10</td>\n      <td>97.110500</td>\n      <td>2020-7</td>\n      <td>2019-7</td>\n    </tr>\n    <tr>\n      <th>190</th>\n      <td>2020-8</td>\n      <td>2020-08-31</td>\n      <td>AAPL</td>\n      <td>NaN</td>\n      <td>NaN</td>\n      <td>0.25</td>\n      <td>1.0</td>\n      <td>2.256317e+08</td>\n      <td>127.580000</td>\n      <td>129.040000</td>\n      <td>2.911551e+10</td>\n      <td>126.041000</td>\n      <td>2020-8</td>\n      <td>2019-8</td>\n    </tr>\n    <tr>\n      <th>191</th>\n      <td>2020-9</td>\n      <td>2020-09-30</td>\n      <td>AAPL</td>\n      <td>NaN</td>\n      <td>NaN</td>\n      <td>NaN</td>\n      <td>1.0</td>\n      <td>1.360551e+08</td>\n      <td>113.770000</td>\n      <td>115.810000</td>\n      <td>1.575654e+10</td>\n      <td>113.072000</td>\n      <td>2020-9</td>\n      <td>2019-9</td>\n    </tr>\n  </tbody>\n</table>\n<p>192 rows × 14 columns</p>\n</div>"
     },
     "metadata": {},
     "execution_count": 62
    }
   ],
   "source": [
    "current_test_data = pd.merge(left=test_data.groupby(\"MonthYear\")[\"date\"].max().reset_index(), right=test_data, how=\"left\", on=\"date\")\n",
    "current_test_data"
   ]
  },
  {
   "cell_type": "code",
   "execution_count": 61,
   "metadata": {},
   "outputs": [
    {
     "output_type": "execute_result",
     "data": {
      "text/plain": [
       "    PriorMonthYear_x       date symbol  dividend divDeclaredDate  ratio_adj  \\\n",
       "0             2004-1 2005-01-31   AAPL       NaN             NaN        NaN   \n",
       "1            2004-10 2005-10-31   AAPL       NaN             NaN        NaN   \n",
       "2            2004-11 2005-11-30   AAPL       NaN             NaN        NaN   \n",
       "3            2004-12 2005-12-30   AAPL       NaN             NaN        NaN   \n",
       "4             2004-2 2005-02-28   AAPL       NaN             NaN       0.50   \n",
       "..               ...        ...    ...       ...             ...        ...   \n",
       "187           2019-5 2020-05-29   AAPL       NaN             NaN        NaN   \n",
       "188           2019-6 2020-06-30   AAPL       NaN             NaN        NaN   \n",
       "189           2019-7 2020-07-31   AAPL       NaN             NaN        NaN   \n",
       "190           2019-8 2020-08-31   AAPL       NaN             NaN       0.25   \n",
       "191           2019-9 2020-09-30   AAPL       NaN             NaN        NaN   \n",
       "\n",
       "     split_factor    volume_adj    open_adj   close_adj  dollar_volume  \\\n",
       "0            56.0  1.683051e+09    1.331786    1.373214   2.311189e+09   \n",
       "1            28.0  9.442679e+08    1.971429    2.056786   1.942157e+09   \n",
       "2            28.0  5.953278e+08    2.443929    2.422143   1.441969e+09   \n",
       "3            28.0  6.240182e+08    2.532500    2.567500   1.602167e+09   \n",
       "4            28.0  6.531050e+08    1.595714    1.602143   1.046368e+09   \n",
       "..            ...           ...         ...         ...            ...   \n",
       "187           4.0  1.535981e+08   79.812500   79.485000   1.220875e+10   \n",
       "188           4.0  1.402180e+08   90.020000   91.200000   1.278788e+10   \n",
       "189           4.0  3.814660e+08  102.883750  106.260000   4.053458e+10   \n",
       "190           1.0  2.256317e+08  127.580000  129.040000   2.911551e+10   \n",
       "191           1.0  1.360551e+08  113.770000  115.810000   1.575654e+10   \n",
       "\n",
       "     5-Days Rolling Average (Close) MonthYear PriorMonthYear_y  \n",
       "0                          1.313643    2005-1           2004-1  \n",
       "1                          2.004286   2005-10          2004-10  \n",
       "2                          2.443071   2005-11          2004-11  \n",
       "3                          2.603500   2005-12          2004-12  \n",
       "4                          1.575571    2005-2           2004-2  \n",
       "..                              ...       ...              ...  \n",
       "187                       79.496000    2020-5           2019-5  \n",
       "188                       90.255500    2020-6           2019-6  \n",
       "189                       97.110500    2020-7           2019-7  \n",
       "190                      126.041000    2020-8           2019-8  \n",
       "191                      113.072000    2020-9           2019-9  \n",
       "\n",
       "[192 rows x 14 columns]"
      ],
      "text/html": "<div>\n<style scoped>\n    .dataframe tbody tr th:only-of-type {\n        vertical-align: middle;\n    }\n\n    .dataframe tbody tr th {\n        vertical-align: top;\n    }\n\n    .dataframe thead th {\n        text-align: right;\n    }\n</style>\n<table border=\"1\" class=\"dataframe\">\n  <thead>\n    <tr style=\"text-align: right;\">\n      <th></th>\n      <th>PriorMonthYear_x</th>\n      <th>date</th>\n      <th>symbol</th>\n      <th>dividend</th>\n      <th>divDeclaredDate</th>\n      <th>ratio_adj</th>\n      <th>split_factor</th>\n      <th>volume_adj</th>\n      <th>open_adj</th>\n      <th>close_adj</th>\n      <th>dollar_volume</th>\n      <th>5-Days Rolling Average (Close)</th>\n      <th>MonthYear</th>\n      <th>PriorMonthYear_y</th>\n    </tr>\n  </thead>\n  <tbody>\n    <tr>\n      <th>0</th>\n      <td>2004-1</td>\n      <td>2005-01-31</td>\n      <td>AAPL</td>\n      <td>NaN</td>\n      <td>NaN</td>\n      <td>NaN</td>\n      <td>56.0</td>\n      <td>1.683051e+09</td>\n      <td>1.331786</td>\n      <td>1.373214</td>\n      <td>2.311189e+09</td>\n      <td>1.313643</td>\n      <td>2005-1</td>\n      <td>2004-1</td>\n    </tr>\n    <tr>\n      <th>1</th>\n      <td>2004-10</td>\n      <td>2005-10-31</td>\n      <td>AAPL</td>\n      <td>NaN</td>\n      <td>NaN</td>\n      <td>NaN</td>\n      <td>28.0</td>\n      <td>9.442679e+08</td>\n      <td>1.971429</td>\n      <td>2.056786</td>\n      <td>1.942157e+09</td>\n      <td>2.004286</td>\n      <td>2005-10</td>\n      <td>2004-10</td>\n    </tr>\n    <tr>\n      <th>2</th>\n      <td>2004-11</td>\n      <td>2005-11-30</td>\n      <td>AAPL</td>\n      <td>NaN</td>\n      <td>NaN</td>\n      <td>NaN</td>\n      <td>28.0</td>\n      <td>5.953278e+08</td>\n      <td>2.443929</td>\n      <td>2.422143</td>\n      <td>1.441969e+09</td>\n      <td>2.443071</td>\n      <td>2005-11</td>\n      <td>2004-11</td>\n    </tr>\n    <tr>\n      <th>3</th>\n      <td>2004-12</td>\n      <td>2005-12-30</td>\n      <td>AAPL</td>\n      <td>NaN</td>\n      <td>NaN</td>\n      <td>NaN</td>\n      <td>28.0</td>\n      <td>6.240182e+08</td>\n      <td>2.532500</td>\n      <td>2.567500</td>\n      <td>1.602167e+09</td>\n      <td>2.603500</td>\n      <td>2005-12</td>\n      <td>2004-12</td>\n    </tr>\n    <tr>\n      <th>4</th>\n      <td>2004-2</td>\n      <td>2005-02-28</td>\n      <td>AAPL</td>\n      <td>NaN</td>\n      <td>NaN</td>\n      <td>0.50</td>\n      <td>28.0</td>\n      <td>6.531050e+08</td>\n      <td>1.595714</td>\n      <td>1.602143</td>\n      <td>1.046368e+09</td>\n      <td>1.575571</td>\n      <td>2005-2</td>\n      <td>2004-2</td>\n    </tr>\n    <tr>\n      <th>...</th>\n      <td>...</td>\n      <td>...</td>\n      <td>...</td>\n      <td>...</td>\n      <td>...</td>\n      <td>...</td>\n      <td>...</td>\n      <td>...</td>\n      <td>...</td>\n      <td>...</td>\n      <td>...</td>\n      <td>...</td>\n      <td>...</td>\n      <td>...</td>\n    </tr>\n    <tr>\n      <th>187</th>\n      <td>2019-5</td>\n      <td>2020-05-29</td>\n      <td>AAPL</td>\n      <td>NaN</td>\n      <td>NaN</td>\n      <td>NaN</td>\n      <td>4.0</td>\n      <td>1.535981e+08</td>\n      <td>79.812500</td>\n      <td>79.485000</td>\n      <td>1.220875e+10</td>\n      <td>79.496000</td>\n      <td>2020-5</td>\n      <td>2019-5</td>\n    </tr>\n    <tr>\n      <th>188</th>\n      <td>2019-6</td>\n      <td>2020-06-30</td>\n      <td>AAPL</td>\n      <td>NaN</td>\n      <td>NaN</td>\n      <td>NaN</td>\n      <td>4.0</td>\n      <td>1.402180e+08</td>\n      <td>90.020000</td>\n      <td>91.200000</td>\n      <td>1.278788e+10</td>\n      <td>90.255500</td>\n      <td>2020-6</td>\n      <td>2019-6</td>\n    </tr>\n    <tr>\n      <th>189</th>\n      <td>2019-7</td>\n      <td>2020-07-31</td>\n      <td>AAPL</td>\n      <td>NaN</td>\n      <td>NaN</td>\n      <td>NaN</td>\n      <td>4.0</td>\n      <td>3.814660e+08</td>\n      <td>102.883750</td>\n      <td>106.260000</td>\n      <td>4.053458e+10</td>\n      <td>97.110500</td>\n      <td>2020-7</td>\n      <td>2019-7</td>\n    </tr>\n    <tr>\n      <th>190</th>\n      <td>2019-8</td>\n      <td>2020-08-31</td>\n      <td>AAPL</td>\n      <td>NaN</td>\n      <td>NaN</td>\n      <td>0.25</td>\n      <td>1.0</td>\n      <td>2.256317e+08</td>\n      <td>127.580000</td>\n      <td>129.040000</td>\n      <td>2.911551e+10</td>\n      <td>126.041000</td>\n      <td>2020-8</td>\n      <td>2019-8</td>\n    </tr>\n    <tr>\n      <th>191</th>\n      <td>2019-9</td>\n      <td>2020-09-30</td>\n      <td>AAPL</td>\n      <td>NaN</td>\n      <td>NaN</td>\n      <td>NaN</td>\n      <td>1.0</td>\n      <td>1.360551e+08</td>\n      <td>113.770000</td>\n      <td>115.810000</td>\n      <td>1.575654e+10</td>\n      <td>113.072000</td>\n      <td>2020-9</td>\n      <td>2019-9</td>\n    </tr>\n  </tbody>\n</table>\n<p>192 rows × 14 columns</p>\n</div>"
     },
     "metadata": {},
     "execution_count": 61
    }
   ],
   "source": [
    "prior_test_data = pd.merge(left=test_data.groupby(\"PriorMonthYear\")[\"date\"].max().reset_index(), right=test_data, how=\"left\", on=\"date\")\n",
    "prior_test_data"
   ]
  },
  {
   "cell_type": "code",
   "execution_count": null,
   "metadata": {},
   "outputs": [],
   "source": []
  }
 ]
}