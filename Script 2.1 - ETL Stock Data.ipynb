{
 "metadata": {
  "language_info": {
   "codemirror_mode": {
    "name": "ipython",
    "version": 3
   },
   "file_extension": ".py",
   "mimetype": "text/x-python",
   "name": "python",
   "nbconvert_exporter": "python",
   "pygments_lexer": "ipython3",
   "version": "3.9.1-final"
  },
  "orig_nbformat": 2,
  "kernelspec": {
   "name": "python3",
   "display_name": "Python 3",
   "language": "python"
  }
 },
 "nbformat": 4,
 "nbformat_minor": 2,
 "cells": [
  {
   "cell_type": "code",
   "execution_count": 11,
   "metadata": {},
   "outputs": [],
   "source": [
    "import pandas as pd\n",
    "import os\n",
    "from tqdm import tqdm_notebook\n",
    "from sqlalchemy import create_engine"
   ]
  },
  {
   "cell_type": "code",
   "execution_count": 13,
   "metadata": {},
   "outputs": [
    {
     "output_type": "stream",
     "name": "stdout",
     "text": [
      "2021-01-18 21:29:27,633 INFO sqlalchemy.engine.base.Engine SELECT CAST('test plain returns' AS VARCHAR(60)) AS anon_1\n",
      "2021-01-18 21:29:27,642 INFO sqlalchemy.engine.base.Engine ()\n",
      "2021-01-18 21:29:27,647 INFO sqlalchemy.engine.base.Engine SELECT CAST('test unicode returns' AS VARCHAR(60)) AS anon_1\n",
      "2021-01-18 21:29:27,658 INFO sqlalchemy.engine.base.Engine ()\n"
     ]
    }
   ],
   "source": [
    "pwd = os.getcwd()\n",
    "\n",
    "engine = create_engine('sqlite:///stock_data.db', echo=True)\n",
    "sqlite_connection = engine.connect()"
   ]
  },
  {
   "cell_type": "code",
   "execution_count": 5,
   "metadata": {},
   "outputs": [],
   "source": [
    "directory = pwd + \"/data/bars_adj/\""
   ]
  },
  {
   "cell_type": "code",
   "execution_count": 8,
   "metadata": {},
   "outputs": [
    {
     "output_type": "display_data",
     "data": {
      "text/plain": "  0%|          | 0/505 [00:00<?, ?it/s]",
      "application/vnd.jupyter.widget-view+json": {
       "version_major": 2,
       "version_minor": 0,
       "model_id": "97f2b7ba447a4fdc803fb7af29672e93"
      }
     },
     "metadata": {}
    }
   ],
   "source": [
    "final_data = []\n",
    "\n",
    "for i in tqdm_notebook(os.listdir(directory)):\n",
    "    data = pd.read_csv(directory + i)\n",
    "    final_data.append(data)"
   ]
  },
  {
   "cell_type": "code",
   "execution_count": 15,
   "metadata": {},
   "outputs": [
    {
     "output_type": "execute_result",
     "data": {
      "text/plain": [
       "            date       volume   open  close   high     low symbol  ratio  \\\n",
       "0     2005-01-03   57029474.0  19.42  19.32  19.61  19.269   CSCO    NaN   \n",
       "1     2005-01-04  106024726.0  19.38  18.56  19.39  18.540   CSCO    NaN   \n",
       "2     2005-01-05   66116202.0  18.47  18.57  18.88  18.450   CSCO    NaN   \n",
       "3     2005-01-06   63670315.0  18.67  18.85  18.86  18.560   CSCO    NaN   \n",
       "4     2005-01-07   54446711.0  18.92  18.72  18.98  18.620   CSCO    NaN   \n",
       "...          ...          ...    ...    ...    ...     ...    ...    ...   \n",
       "4023  2020-12-24    2028700.0  26.75  26.89  26.92  26.454    PPL    NaN   \n",
       "4024  2020-12-28    3842214.0  27.04  27.25  27.39  26.920    PPL    NaN   \n",
       "4025  2020-12-29    3655690.0  27.33  27.30  27.60  27.200    PPL    NaN   \n",
       "4026  2020-12-30    3662429.0  27.22  27.59  27.74  27.190    PPL    NaN   \n",
       "4027  2020-12-31    4263630.0  27.56  28.20  28.22  27.460    PPL    NaN   \n",
       "\n",
       "     divPaymentDate divRecordDate  ...  split_factor   volume_adj  open_adj  \\\n",
       "0               NaN           NaN  ...           1.0   57029474.0     19.42   \n",
       "1               NaN           NaN  ...           1.0  106024726.0     19.38   \n",
       "2               NaN           NaN  ...           1.0   66116202.0     18.47   \n",
       "3               NaN           NaN  ...           1.0   63670315.0     18.67   \n",
       "4               NaN           NaN  ...           1.0   54446711.0     18.92   \n",
       "...             ...           ...  ...           ...          ...       ...   \n",
       "4023            NaN           NaN  ...           1.0    2028700.0     26.75   \n",
       "4024            NaN           NaN  ...           1.0    3842214.0     27.04   \n",
       "4025            NaN           NaN  ...           1.0    3655690.0     27.33   \n",
       "4026            NaN           NaN  ...           1.0    3662429.0     27.22   \n",
       "4027            NaN           NaN  ...           1.0    4263630.0     27.56   \n",
       "\n",
       "      close_adj  high_adj  low_adj  dollar_volume  tofactor  forfactor  \\\n",
       "0         19.32     19.61   19.269   1.101809e+09       NaN        NaN   \n",
       "1         18.56     19.39   18.540   1.967819e+09       NaN        NaN   \n",
       "2         18.57     18.88   18.450   1.227778e+09       NaN        NaN   \n",
       "3         18.85     18.86   18.560   1.200185e+09       NaN        NaN   \n",
       "4         18.72     18.98   18.620   1.019242e+09       NaN        NaN   \n",
       "...         ...       ...      ...            ...       ...        ...   \n",
       "4023      26.89     26.92   26.454   5.455174e+07       NaN        NaN   \n",
       "4024      27.25     27.39   26.920   1.047003e+08       NaN        NaN   \n",
       "4025      27.30     27.60   27.200   9.980034e+07       NaN        NaN   \n",
       "4026      27.59     27.74   27.190   1.010464e+08       NaN        NaN   \n",
       "4027      28.20     28.22   27.460   1.202344e+08       NaN        NaN   \n",
       "\n",
       "      splitDeclaredDate  \n",
       "0                   NaN  \n",
       "1                   NaN  \n",
       "2                   NaN  \n",
       "3                   NaN  \n",
       "4                   NaN  \n",
       "...                 ...  \n",
       "4023                NaN  \n",
       "4024                NaN  \n",
       "4025                NaN  \n",
       "4026                NaN  \n",
       "4027                NaN  \n",
       "\n",
       "[1818940 rows x 23 columns]"
      ],
      "text/html": "<div>\n<style scoped>\n    .dataframe tbody tr th:only-of-type {\n        vertical-align: middle;\n    }\n\n    .dataframe tbody tr th {\n        vertical-align: top;\n    }\n\n    .dataframe thead th {\n        text-align: right;\n    }\n</style>\n<table border=\"1\" class=\"dataframe\">\n  <thead>\n    <tr style=\"text-align: right;\">\n      <th></th>\n      <th>date</th>\n      <th>volume</th>\n      <th>open</th>\n      <th>close</th>\n      <th>high</th>\n      <th>low</th>\n      <th>symbol</th>\n      <th>ratio</th>\n      <th>divPaymentDate</th>\n      <th>divRecordDate</th>\n      <th>...</th>\n      <th>split_factor</th>\n      <th>volume_adj</th>\n      <th>open_adj</th>\n      <th>close_adj</th>\n      <th>high_adj</th>\n      <th>low_adj</th>\n      <th>dollar_volume</th>\n      <th>tofactor</th>\n      <th>forfactor</th>\n      <th>splitDeclaredDate</th>\n    </tr>\n  </thead>\n  <tbody>\n    <tr>\n      <th>0</th>\n      <td>2005-01-03</td>\n      <td>57029474.0</td>\n      <td>19.42</td>\n      <td>19.32</td>\n      <td>19.61</td>\n      <td>19.269</td>\n      <td>CSCO</td>\n      <td>NaN</td>\n      <td>NaN</td>\n      <td>NaN</td>\n      <td>...</td>\n      <td>1.0</td>\n      <td>57029474.0</td>\n      <td>19.42</td>\n      <td>19.32</td>\n      <td>19.61</td>\n      <td>19.269</td>\n      <td>1.101809e+09</td>\n      <td>NaN</td>\n      <td>NaN</td>\n      <td>NaN</td>\n    </tr>\n    <tr>\n      <th>1</th>\n      <td>2005-01-04</td>\n      <td>106024726.0</td>\n      <td>19.38</td>\n      <td>18.56</td>\n      <td>19.39</td>\n      <td>18.540</td>\n      <td>CSCO</td>\n      <td>NaN</td>\n      <td>NaN</td>\n      <td>NaN</td>\n      <td>...</td>\n      <td>1.0</td>\n      <td>106024726.0</td>\n      <td>19.38</td>\n      <td>18.56</td>\n      <td>19.39</td>\n      <td>18.540</td>\n      <td>1.967819e+09</td>\n      <td>NaN</td>\n      <td>NaN</td>\n      <td>NaN</td>\n    </tr>\n    <tr>\n      <th>2</th>\n      <td>2005-01-05</td>\n      <td>66116202.0</td>\n      <td>18.47</td>\n      <td>18.57</td>\n      <td>18.88</td>\n      <td>18.450</td>\n      <td>CSCO</td>\n      <td>NaN</td>\n      <td>NaN</td>\n      <td>NaN</td>\n      <td>...</td>\n      <td>1.0</td>\n      <td>66116202.0</td>\n      <td>18.47</td>\n      <td>18.57</td>\n      <td>18.88</td>\n      <td>18.450</td>\n      <td>1.227778e+09</td>\n      <td>NaN</td>\n      <td>NaN</td>\n      <td>NaN</td>\n    </tr>\n    <tr>\n      <th>3</th>\n      <td>2005-01-06</td>\n      <td>63670315.0</td>\n      <td>18.67</td>\n      <td>18.85</td>\n      <td>18.86</td>\n      <td>18.560</td>\n      <td>CSCO</td>\n      <td>NaN</td>\n      <td>NaN</td>\n      <td>NaN</td>\n      <td>...</td>\n      <td>1.0</td>\n      <td>63670315.0</td>\n      <td>18.67</td>\n      <td>18.85</td>\n      <td>18.86</td>\n      <td>18.560</td>\n      <td>1.200185e+09</td>\n      <td>NaN</td>\n      <td>NaN</td>\n      <td>NaN</td>\n    </tr>\n    <tr>\n      <th>4</th>\n      <td>2005-01-07</td>\n      <td>54446711.0</td>\n      <td>18.92</td>\n      <td>18.72</td>\n      <td>18.98</td>\n      <td>18.620</td>\n      <td>CSCO</td>\n      <td>NaN</td>\n      <td>NaN</td>\n      <td>NaN</td>\n      <td>...</td>\n      <td>1.0</td>\n      <td>54446711.0</td>\n      <td>18.92</td>\n      <td>18.72</td>\n      <td>18.98</td>\n      <td>18.620</td>\n      <td>1.019242e+09</td>\n      <td>NaN</td>\n      <td>NaN</td>\n      <td>NaN</td>\n    </tr>\n    <tr>\n      <th>...</th>\n      <td>...</td>\n      <td>...</td>\n      <td>...</td>\n      <td>...</td>\n      <td>...</td>\n      <td>...</td>\n      <td>...</td>\n      <td>...</td>\n      <td>...</td>\n      <td>...</td>\n      <td>...</td>\n      <td>...</td>\n      <td>...</td>\n      <td>...</td>\n      <td>...</td>\n      <td>...</td>\n      <td>...</td>\n      <td>...</td>\n      <td>...</td>\n      <td>...</td>\n      <td>...</td>\n    </tr>\n    <tr>\n      <th>4023</th>\n      <td>2020-12-24</td>\n      <td>2028700.0</td>\n      <td>26.75</td>\n      <td>26.89</td>\n      <td>26.92</td>\n      <td>26.454</td>\n      <td>PPL</td>\n      <td>NaN</td>\n      <td>NaN</td>\n      <td>NaN</td>\n      <td>...</td>\n      <td>1.0</td>\n      <td>2028700.0</td>\n      <td>26.75</td>\n      <td>26.89</td>\n      <td>26.92</td>\n      <td>26.454</td>\n      <td>5.455174e+07</td>\n      <td>NaN</td>\n      <td>NaN</td>\n      <td>NaN</td>\n    </tr>\n    <tr>\n      <th>4024</th>\n      <td>2020-12-28</td>\n      <td>3842214.0</td>\n      <td>27.04</td>\n      <td>27.25</td>\n      <td>27.39</td>\n      <td>26.920</td>\n      <td>PPL</td>\n      <td>NaN</td>\n      <td>NaN</td>\n      <td>NaN</td>\n      <td>...</td>\n      <td>1.0</td>\n      <td>3842214.0</td>\n      <td>27.04</td>\n      <td>27.25</td>\n      <td>27.39</td>\n      <td>26.920</td>\n      <td>1.047003e+08</td>\n      <td>NaN</td>\n      <td>NaN</td>\n      <td>NaN</td>\n    </tr>\n    <tr>\n      <th>4025</th>\n      <td>2020-12-29</td>\n      <td>3655690.0</td>\n      <td>27.33</td>\n      <td>27.30</td>\n      <td>27.60</td>\n      <td>27.200</td>\n      <td>PPL</td>\n      <td>NaN</td>\n      <td>NaN</td>\n      <td>NaN</td>\n      <td>...</td>\n      <td>1.0</td>\n      <td>3655690.0</td>\n      <td>27.33</td>\n      <td>27.30</td>\n      <td>27.60</td>\n      <td>27.200</td>\n      <td>9.980034e+07</td>\n      <td>NaN</td>\n      <td>NaN</td>\n      <td>NaN</td>\n    </tr>\n    <tr>\n      <th>4026</th>\n      <td>2020-12-30</td>\n      <td>3662429.0</td>\n      <td>27.22</td>\n      <td>27.59</td>\n      <td>27.74</td>\n      <td>27.190</td>\n      <td>PPL</td>\n      <td>NaN</td>\n      <td>NaN</td>\n      <td>NaN</td>\n      <td>...</td>\n      <td>1.0</td>\n      <td>3662429.0</td>\n      <td>27.22</td>\n      <td>27.59</td>\n      <td>27.74</td>\n      <td>27.190</td>\n      <td>1.010464e+08</td>\n      <td>NaN</td>\n      <td>NaN</td>\n      <td>NaN</td>\n    </tr>\n    <tr>\n      <th>4027</th>\n      <td>2020-12-31</td>\n      <td>4263630.0</td>\n      <td>27.56</td>\n      <td>28.20</td>\n      <td>28.22</td>\n      <td>27.460</td>\n      <td>PPL</td>\n      <td>NaN</td>\n      <td>NaN</td>\n      <td>NaN</td>\n      <td>...</td>\n      <td>1.0</td>\n      <td>4263630.0</td>\n      <td>27.56</td>\n      <td>28.20</td>\n      <td>28.22</td>\n      <td>27.460</td>\n      <td>1.202344e+08</td>\n      <td>NaN</td>\n      <td>NaN</td>\n      <td>NaN</td>\n    </tr>\n  </tbody>\n</table>\n<p>1818940 rows × 23 columns</p>\n</div>"
     },
     "metadata": {},
     "execution_count": 15
    }
   ],
   "source": [
    "export_data = pd.concat(final_data)\n",
    "export_data"
   ]
  },
  {
   "cell_type": "code",
   "execution_count": 16,
   "metadata": {},
   "outputs": [
    {
     "output_type": "stream",
     "name": "stdout",
     "text": [
      "2021-01-18 21:31:16,626 INFO sqlalchemy.engine.base.Engine PRAGMA main.table_info(\"Stock_Ticker_Data\")\n",
      "2021-01-18 21:31:16,626 INFO sqlalchemy.engine.base.Engine ()\n",
      "2021-01-18 21:31:16,630 INFO sqlalchemy.engine.base.Engine PRAGMA temp.table_info(\"Stock_Ticker_Data\")\n",
      "2021-01-18 21:31:16,631 INFO sqlalchemy.engine.base.Engine ()\n",
      "2021-01-18 21:31:16,638 INFO sqlalchemy.engine.base.Engine \n",
      "CREATE TABLE \"Stock_Ticker_Data\" (\n",
      "\t\"index\" BIGINT, \n",
      "\tdate TEXT, \n",
      "\tvolume FLOAT, \n",
      "\topen FLOAT, \n",
      "\tclose FLOAT, \n",
      "\thigh FLOAT, \n",
      "\tlow FLOAT, \n",
      "\tsymbol TEXT, \n",
      "\tratio FLOAT, \n",
      "\t\"divPaymentDate\" TEXT, \n",
      "\t\"divRecordDate\" TEXT, \n",
      "\tdividend FLOAT, \n",
      "\t\"divDeclaredDate\" TEXT, \n",
      "\tratio_adj FLOAT, \n",
      "\tsplit_factor FLOAT, \n",
      "\tvolume_adj FLOAT, \n",
      "\topen_adj FLOAT, \n",
      "\tclose_adj FLOAT, \n",
      "\thigh_adj FLOAT, \n",
      "\tlow_adj FLOAT, \n",
      "\tdollar_volume FLOAT, \n",
      "\ttofactor FLOAT, \n",
      "\tforfactor FLOAT, \n",
      "\t\"splitDeclaredDate\" TEXT\n",
      ")\n",
      "\n",
      "\n",
      "2021-01-18 21:31:16,639 INFO sqlalchemy.engine.base.Engine ()\n",
      "2021-01-18 21:31:16,660 INFO sqlalchemy.engine.base.Engine COMMIT\n",
      "2021-01-18 21:31:16,663 INFO sqlalchemy.engine.base.Engine CREATE INDEX \"ix_Stock_Ticker_Data_index\" ON \"Stock_Ticker_Data\" (\"index\")\n",
      "2021-01-18 21:31:16,665 INFO sqlalchemy.engine.base.Engine ()\n",
      "2021-01-18 21:31:16,669 INFO sqlalchemy.engine.base.Engine COMMIT\n",
      "2021-01-18 21:31:22,123 INFO sqlalchemy.engine.base.Engine BEGIN (implicit)\n",
      "2021-01-18 21:33:16,961 INFO sqlalchemy.engine.base.Engine INSERT INTO \"Stock_Ticker_Data\" (\"index\", date, volume, open, close, high, low, symbol, ratio, \"divPaymentDate\", \"divRecordDate\", dividend, \"divDeclaredDate\", ratio_adj, split_factor, volume_adj, open_adj, close_adj, high_adj, low_adj, dollar_volume, tofactor, forfactor, \"splitDeclaredDate\") VALUES (?, ?, ?, ?, ?, ?, ?, ?, ?, ?, ?, ?, ?, ?, ?, ?, ?, ?, ?, ?, ?, ?, ?, ?)\n",
      "2021-01-18 21:33:17,101 INFO sqlalchemy.engine.base.Engine ((0, '2005-01-03', 57029474.0, 19.42, 19.32, 19.61, 19.269, 'CSCO', None, None, None, None, None, None, 1.0, 57029474.0, 19.42, 19.32, 19.61, 19.269, 1101809437.68, None, None, None), (1, '2005-01-04', 106024726.0, 19.38, 18.56, 19.39, 18.54, 'CSCO', None, None, None, None, None, None, 1.0, 106024726.0, 19.38, 18.56, 19.39, 18.54, 1967818914.56, None, None, None), (2, '2005-01-05', 66116202.0, 18.47, 18.57, 18.88, 18.45, 'CSCO', None, None, None, None, None, None, 1.0, 66116202.0, 18.47, 18.57, 18.88, 18.45, 1227777871.14, None, None, None), (3, '2005-01-06', 63670315.0, 18.67, 18.85, 18.86, 18.56, 'CSCO', None, None, None, None, None, None, 1.0, 63670315.0, 18.67, 18.85, 18.86, 18.56, 1200185437.75, None, None, None), (4, '2005-01-07', 54446711.0, 18.92, 18.72, 18.98, 18.62, 'CSCO', None, None, None, None, None, None, 1.0, 54446711.0, 18.92, 18.72, 18.98, 18.62, 1019242429.92, None, None, None), (5, '2005-01-10', 47696481.0, 18.66, 18.72, 18.84, 18.6, 'CSCO', None, None, None, None, None, None, 1.0, 47696481.0, 18.66, 18.72, 18.84, 18.6, 892878124.3199999, None, None, None), (6, '2005-01-11', 53959579.0, 18.57, 18.64, 18.72, 18.46, 'CSCO', None, None, None, None, None, None, 1.0, 53959579.0, 18.57, 18.64, 18.72, 18.46, 1005806552.56, None, None, None), (7, '2005-01-12', 67913197.0, 18.76, 18.93, 18.97, 18.709, 'CSCO', None, None, None, None, None, None, 1.0, 67913197.0, 18.76, 18.93, 18.97, 18.709, 1285596819.21, None, None, None)  ... displaying 10 of 1818940 total bound parameter sets ...  (4026, '2020-12-30', 3662429.0, 27.22, 27.59, 27.74, 27.19, 'PPL', None, None, None, None, None, None, 1.0, 3662429.0, 27.22, 27.59, 27.74, 27.19, 101046416.11, None, None, None), (4027, '2020-12-31', 4263630.0, 27.56, 28.2, 28.22, 27.46, 'PPL', None, None, None, None, None, None, 1.0, 4263630.0, 27.56, 28.2, 28.22, 27.46, 120234366.0, None, None, None))\n",
      "2021-01-18 21:34:12,875 INFO sqlalchemy.engine.base.Engine COMMIT\n",
      "2021-01-18 21:34:14,679 INFO sqlalchemy.engine.base.Engine SELECT name FROM sqlite_master WHERE type='table' ORDER BY name\n",
      "2021-01-18 21:34:14,680 INFO sqlalchemy.engine.base.Engine ()\n"
     ]
    }
   ],
   "source": [
    "sqlite_table = \"Stock_Ticker_Data\"\n",
    "export_data.to_sql(sqlite_table, sqlite_connection, if_exists='fail')"
   ]
  },
  {
   "cell_type": "code",
   "execution_count": null,
   "metadata": {},
   "outputs": [],
   "source": []
  }
 ]
}